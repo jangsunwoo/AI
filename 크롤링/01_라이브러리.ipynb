{
 "cells": [
  {
   "cell_type": "markdown",
   "metadata": {},
   "source": [
    "# 라이브러리란?\n",
    "* 미리 만들어 놓은 함수의 집합\n",
    "* 각 라이브러리마다 이름 존재\n",
    "    * ex) opencv, matplotlib, turtle"
   ]
  },
  {
   "cell_type": "code",
   "execution_count": 1,
   "metadata": {},
   "outputs": [
    {
     "data": {
      "text/plain": [
       "27"
      ]
     },
     "execution_count": 1,
     "metadata": {},
     "output_type": "execute_result"
    }
   ],
   "source": [
    "# 지수승을 구하시오(3^3)\n",
    "3 ** 3"
   ]
  },
  {
   "cell_type": "code",
   "execution_count": 2,
   "metadata": {},
   "outputs": [],
   "source": [
    "def exponential(digit, exponent):\n",
    "    value = digit ** exponent\n",
    "    return value"
   ]
  },
  {
   "cell_type": "code",
   "execution_count": 3,
   "metadata": {},
   "outputs": [
    {
     "name": "stdout",
     "output_type": "stream",
     "text": [
      "27\n"
     ]
    }
   ],
   "source": [
    "print(exponential(3,3))"
   ]
  },
  {
   "cell_type": "code",
   "execution_count": 4,
   "metadata": {},
   "outputs": [
    {
     "name": "stdout",
     "output_type": "stream",
     "text": [
      "27.0\n"
     ]
    }
   ],
   "source": [
    "import math\n",
    "num = math.pow(3,3)\n",
    "print(num)"
   ]
  },
  {
   "cell_type": "code",
   "execution_count": 5,
   "metadata": {},
   "outputs": [
    {
     "name": "stdout",
     "output_type": "stream",
     "text": [
      "3628800\n"
     ]
    }
   ],
   "source": [
    "# 1 x 2 x 3 x 4 x 5 x 6 x 7 x 8 x 9 x 10 = 3628800\n",
    "num = 1\n",
    "for i in range(1,11):\n",
    "    num = num * i\n",
    "print(num)"
   ]
  },
  {
   "cell_type": "code",
   "execution_count": 21,
   "metadata": {},
   "outputs": [],
   "source": [
    "from math import factorial as fac"
   ]
  },
  {
   "cell_type": "code",
   "execution_count": 22,
   "metadata": {},
   "outputs": [
    {
     "data": {
      "text/plain": [
       "3628800"
      ]
     },
     "execution_count": 22,
     "metadata": {},
     "output_type": "execute_result"
    }
   ],
   "source": [
    "fac(10)"
   ]
  },
  {
   "cell_type": "code",
   "execution_count": 15,
   "metadata": {},
   "outputs": [],
   "source": [
    "def fac(digit):\n",
    "    num = 1\n",
    "    for i in range(1, (digit+1)):\n",
    "        num = num * i\n",
    "    digit = num\n",
    "    return digit"
   ]
  },
  {
   "cell_type": "code",
   "execution_count": 16,
   "metadata": {},
   "outputs": [
    {
     "data": {
      "text/plain": [
       "3628800"
      ]
     },
     "execution_count": 16,
     "metadata": {},
     "output_type": "execute_result"
    }
   ],
   "source": [
    "fac(10)"
   ]
  },
  {
   "cell_type": "code",
   "execution_count": 41,
   "metadata": {},
   "outputs": [
    {
     "name": "stdout",
     "output_type": "stream",
     "text": [
      "3.1622776601683795\n",
      "3.16\n",
      "4\n",
      "-4\n",
      "-3\n"
     ]
    }
   ],
   "source": [
    "#from matplotlib improt pyplot as plt\n",
    "import math\n",
    "triangle = sqrt(10)\n",
    "print(triangle)\n",
    "# round : 반올림\n",
    "print(round(triangle, 2))\n",
    "# ceil : 올림\n",
    "print(math.ceil(triangle))\n",
    "# floor : 내림 (무조건 아래만 향해 내림한다.)\n",
    "# trunc : (내림을 하더라도 0으로 내림을 한다.)\n",
    "pi = -3.14\n",
    "print(math.floor(pi))\n",
    "print(math.trunc(pi))"
   ]
  },
  {
   "cell_type": "code",
   "execution_count": 38,
   "metadata": {},
   "outputs": [
    {
     "name": "stdout",
     "output_type": "stream",
     "text": [
      "4\n",
      "4\n"
     ]
    }
   ],
   "source": [
    "import math \n",
    "data1 = 3.5\n",
    "data2 = 4.5\n",
    "# 사사오입 원칙 -> 반올림할 자리의 수가 5이면 반올림을 해야하는데\n",
    "# 앞자리 수가 짜굿이면 내림하고 홀수이면 올림을 한다.\n",
    "print(round(data1)) # 3.5 -> 4\n",
    "print(round(data2)) # 4.5 -> 4"
   ]
  },
  {
   "cell_type": "code",
   "execution_count": 39,
   "metadata": {},
   "outputs": [
    {
     "name": "stdout",
     "output_type": "stream",
     "text": [
      "268.3281572999748\n"
     ]
    }
   ],
   "source": [
    "from math import *\n",
    "# 해당 라이브러리에 있는 모든 함수를 라이브러리 명 없이 사용할 수 있습니다.\n",
    "num  = sqrt(5) * factorial(5)\n",
    "print(num)"
   ]
  },
  {
   "cell_type": "code",
   "execution_count": null,
   "metadata": {},
   "outputs": [],
   "source": [
    "from googletrans import Translator\n",
    "human = Translator()\n",
    "convert = human.translate(\"나는 마트에 가서 장을 보고 밥을 먹습니다.\", dest='es', src ='ko')\n",
    "print(convert.text)"
   ]
  },
  {
   "cell_type": "code",
   "execution_count": 48,
   "metadata": {},
   "outputs": [
    {
     "data": {
      "text/plain": [
       "'はじめまして。'"
      ]
     },
     "execution_count": 48,
     "metadata": {},
     "output_type": "execute_result"
    }
   ],
   "source": [
    "Translator().translate(\"만나서 반갑습니다.\", dest='ja',src='ko').text"
   ]
  },
  {
   "cell_type": "code",
   "execution_count": null,
   "metadata": {},
   "outputs": [],
   "source": []
  }
 ],
 "metadata": {
  "kernelspec": {
   "display_name": "Python 3",
   "language": "python",
   "name": "python3"
  },
  "language_info": {
   "codemirror_mode": {
    "name": "ipython",
    "version": 3
   },
   "file_extension": ".py",
   "mimetype": "text/x-python",
   "name": "python",
   "nbconvert_exporter": "python",
   "pygments_lexer": "ipython3",
   "version": "3.7.4"
  }
 },
 "nbformat": 4,
 "nbformat_minor": 2
}
