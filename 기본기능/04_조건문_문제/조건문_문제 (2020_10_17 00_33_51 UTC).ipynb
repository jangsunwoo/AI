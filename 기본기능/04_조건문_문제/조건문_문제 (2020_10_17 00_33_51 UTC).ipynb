{
 "cells": [
  {
   "cell_type": "markdown",
   "metadata": {},
   "source": [
    "# 문제 1 조건문\n",
    "* 사용자로부터 두개의 숫자를입력받은 후 큰 숫자를 화면에 출력해주세요"
   ]
  },
  {
   "cell_type": "code",
   "execution_count": 3,
   "metadata": {},
   "outputs": [
    {
     "name": "stdout",
     "output_type": "stream",
     "text": [
      "4\n",
      "4\n",
      "두 수는 같습니다.\n"
     ]
    }
   ],
   "source": [
    "data1 = int(input())\n",
    "data2 = int(input())\n",
    "if data1 < data2:\n",
    "    print(\"더 큰수는 :\", data2)\n",
    "elif data1 > data2:\n",
    "    print(\"더 큰수는 :\", data1)\n",
    "else:\n",
    "    print(\"두 수는 같습니다.\")"
   ]
  },
  {
   "cell_type": "markdown",
   "metadata": {},
   "source": [
    "# 문제 2 조건문\n",
    "* 사용자로부터 입력받은 숫자가 홀수인지 짝수인지 출력하세요"
   ]
  },
  {
   "cell_type": "code",
   "execution_count": 5,
   "metadata": {},
   "outputs": [
    {
     "name": "stdout",
     "output_type": "stream",
     "text": [
      "9\n",
      "입력한 값은 홀수입니다.\n"
     ]
    }
   ],
   "source": [
    "data3 = int(input())\n",
    "if data3 % 2 == 0:\n",
    "    print(\"입력한 값은 짝수입니다.\")\n",
    "else :\n",
    "    print(\"입력한 값은 홀수입니다.\")"
   ]
  },
  {
   "cell_type": "markdown",
   "metadata": {},
   "source": [
    "# 문제3 조건문\n",
    "* 사용자로부터 3개의 숫자를 입력받은 후 가장 작은 수를 출력해주세요"
   ]
  },
  {
   "cell_type": "code",
   "execution_count": 10,
   "metadata": {},
   "outputs": [
    {
     "name": "stdout",
     "output_type": "stream",
     "text": [
      "3\n",
      "2\n",
      "1\n",
      "1\n"
     ]
    }
   ],
   "source": [
    "data4 = int(input())\n",
    "data5 = int(input())\n",
    "data6 = int(input())\n",
    "\n",
    "if data4 <= data5 and data4 <= data6:\n",
    "    print(data4)\n",
    "elif data5 <= data6 and data5 <= data4:\n",
    "    print(data5)\n",
    "else:\n",
    "    print(data6)"
   ]
  },
  {
   "cell_type": "markdown",
   "metadata": {},
   "source": [
    "# 문제 4 조건문\n",
    "* 사용자로부터 점수을 입력 받은 뒤 등급을 출력해주세요\n",
    "\n",
    "    * A : 100 ~ 81, B : 80 ~ 61 , C : 60 ~ 0"
   ]
  },
  {
   "cell_type": "code",
   "execution_count": 15,
   "metadata": {},
   "outputs": [
    {
     "name": "stdout",
     "output_type": "stream",
     "text": [
      "점수를 입력해주세요 : 59\n",
      "등급은 C\n"
     ]
    }
   ],
   "source": [
    "score = int(input(\"점수를 입력해주세요 : \"))\n",
    "if score>= 81 and score <= 100 :\n",
    "    print(\"등급은 A\")\n",
    "elif score >= 61 and score <= 80:\n",
    "    print(\"등급은 B\")\n",
    "else :\n",
    "    print(\"등급은 C\")"
   ]
  },
  {
   "cell_type": "markdown",
   "metadata": {},
   "source": [
    "# 문제 5 조건문 && 리스트\n",
    "* 사용자로붙터 주민등록번호를 입력받아 성별을 '남성' 또는 '여성'을 출력해주세요\n",
    "    * 주민등록번호 뒷자리는 맨 앞자리는 성별을 뜻합니다.\n",
    "    * 1은 남성을 의미, 2는 여성을 의미\n",
    "    \n",
    "        * 1이 들어간다면 '남성입니다', \"뒷자리 번호는 1입니다\"\n",
    "        * 2가 들어간다면 '여성입니다', '뒷자리 번호는 2입니다'"
   ]
  },
  {
   "cell_type": "code",
   "execution_count": 20,
   "metadata": {},
   "outputs": [
    {
     "name": "stdout",
     "output_type": "stream",
     "text": [
      "주민번호는 ? 900001-2123123\n",
      "여성입니다. 뒷번호는 2번입니다.\n"
     ]
    }
   ],
   "source": [
    "num = input(\"주민번호는 ? \")\n",
    "num_list = num.split('-')\n",
    "back_data = num_list[1]\n",
    "\n",
    "if back_data[0] == '1':\n",
    "    print(\"남성입니다.\", \"뒷번호는 1번입니다.\")\n",
    "elif back_data[0] == '2':\n",
    "    print(\"여성입니다.\", \"뒷번호는 2번입니다.\")"
   ]
  },
  {
   "cell_type": "code",
   "execution_count": null,
   "metadata": {},
   "outputs": [],
   "source": []
  }
 ],
 "metadata": {
  "kernelspec": {
   "display_name": "Python 3",
   "language": "python",
   "name": "python3"
  },
  "language_info": {
   "codemirror_mode": {
    "name": "ipython",
    "version": 3
   },
   "file_extension": ".py",
   "mimetype": "text/x-python",
   "name": "python",
   "nbconvert_exporter": "python",
   "pygments_lexer": "ipython3",
   "version": "3.7.4"
  }
 },
 "nbformat": 4,
 "nbformat_minor": 2
}
