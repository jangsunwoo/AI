{
 "cells": [
  {
   "cell_type": "markdown",
   "metadata": {},
   "source": [
    "# 파이썬이란?\n",
    "\n",
    "- 간단하고 배우기 쉬운 프로그램 언어중 하나입니다.\n",
    "- 영어와 유사한 문법으로 프로그램 작성이 가능합니다.\n",
    "- 컴파일 과정이 없어서 매우 빠르고 편리합니다.\n",
    "- 코드가 읽기 쉽고 성능도 빠른편입니다.\n",
    "- 많은 데이터나 빠른 응답이 필요한 프로그램에서 파이썬을 사용합니다.\n",
    "- 사용기관 : NASA, FACEBOOK, NAVER, KAKAO\n",
    "    - 기계학습과 데이터 과학분야에 파이썬을 많이 사용합니다.\n",
    "- 인터프리터 모드 : 대화모드 -> 사용자가 만일 1 + 3 ? 물어봤을 경우 인터프리터가 즉각 반응하여 4라는 답을 줍니다.\n"
   ]
  },
  {
   "cell_type": "code",
   "execution_count": 4,
   "metadata": {},
   "outputs": [
    {
     "data": {
      "text/plain": [
       "'\\n어떤 글을 적어도 아무런 영향이 없습니다.\\n'"
      ]
     },
     "execution_count": 4,
     "metadata": {},
     "output_type": "execute_result"
    }
   ],
   "source": [
    "# -> 주석\n",
    "# 프로그램 코드를 설명하기 위해 붙이고 실제 프로그램이 동작할때는 영향이 없습니다.\n",
    "\"\"\"\n",
    "어떤 글을 적어도 아무런 영향이 없습니다.\n",
    "\"\"\""
   ]
  },
  {
   "cell_type": "code",
   "execution_count": 5,
   "metadata": {},
   "outputs": [],
   "source": [
    "# 사칙연산 + 2연산\n",
    "# 덧셈 : +\n",
    "# 뺄셈 : -\n",
    "# 곱셉 : *\n",
    "# 나눗셈 : /\n",
    "# 나머지 : %\n",
    "# 거듭제곱 : **"
   ]
  },
  {
   "cell_type": "code",
   "execution_count": 7,
   "metadata": {},
   "outputs": [
    {
     "data": {
      "text/plain": [
       "7"
      ]
     },
     "execution_count": 7,
     "metadata": {},
     "output_type": "execute_result"
    }
   ],
   "source": [
    "1 + 3\n",
    "3+4"
   ]
  },
  {
   "cell_type": "code",
   "execution_count": 8,
   "metadata": {},
   "outputs": [],
   "source": [
    "# print()\n",
    "# 출력할때 사용하는 함수\n",
    "# 컴퓨터에 명령을 내리고, 그 명령을 파이썬에서는 print라는 함수로 제공\n",
    "# 사용방법?\n",
    "# print(숫자)\n",
    "# print('적고 싶은 문자'), print(\"적고 싶은 문자\")"
   ]
  },
  {
   "cell_type": "code",
   "execution_count": 14,
   "metadata": {},
   "outputs": [
    {
     "name": "stdout",
     "output_type": "stream",
     "text": [
      "1 + 3 = 4\n",
      "덧셈 : 1 + 3 = 4 입니다.\n"
     ]
    }
   ],
   "source": [
    "print(\"1 + 3 =\",1 + 3)\n",
    "print(\"덧셈 :\", \"1 + 3 =\", 1 + 3, \"입니다.\")"
   ]
  },
  {
   "cell_type": "markdown",
   "metadata": {},
   "source": [
    "# 덧셈 : 10 + 20 은 30입니다.\n",
    "# 뺄셈 : 30 - 20 은 10입니다.\n",
    "# 곱셉 : 1과 0을 곱하면 0입니다.\n",
    "# 거듭제곱 : 2의 거듭제곱은 4입니다."
   ]
  },
  {
   "cell_type": "code",
   "execution_count": 16,
   "metadata": {},
   "outputs": [
    {
     "name": "stdout",
     "output_type": "stream",
     "text": [
      "덧셈 : 10 + 20은 30 입니다.\n",
      "뺄셈 : 30 - 20은 10 입니다.\n",
      "곱셈 : 1과 2을 곱하면 0 입니다.\n",
      "거듭제곱 : 2의 거듭제곱은 4 입니다.\n"
     ]
    }
   ],
   "source": [
    "print(\"덧셈 : 10 + 20은\", 10 + 20, \"입니다.\")\n",
    "print(\"뺄셈 : 30 - 20은\", 30 - 20, \"입니다.\")\n",
    "print(\"곱셈 : 1과 2을 곱하면\", 1 * 0, \"입니다.\")\n",
    "print(\"거듭제곱 : 2의 거듭제곱은\", 2 ** 2, \"입니다.\")"
   ]
  },
  {
   "cell_type": "markdown",
   "metadata": {},
   "source": [
    "# 변수란?\n",
    "- 어떤 데이터를 기반으로 컴퓨터에 명령을 내리는 방법\n",
    "- 데이터 : 문자 또는 숫자\n",
    "    - 변수 만드는 법 ?\n",
    "        * 나이를 가지고 있는 변수\n",
    "            - age = 10\n",
    "            - print(age)"
   ]
  },
  {
   "cell_type": "code",
   "execution_count": 17,
   "metadata": {},
   "outputs": [
    {
     "name": "stdout",
     "output_type": "stream",
     "text": [
      "10\n"
     ]
    }
   ],
   "source": [
    "age = 10\n",
    "print(age)"
   ]
  },
  {
   "cell_type": "code",
   "execution_count": 18,
   "metadata": {},
   "outputs": [
    {
     "name": "stdout",
     "output_type": "stream",
     "text": [
      "1991\n"
     ]
    }
   ],
   "source": [
    "age = 29\n",
    "year = 2020\n",
    "print(year - age)"
   ]
  },
  {
   "cell_type": "code",
   "execution_count": 20,
   "metadata": {},
   "outputs": [
    {
     "name": "stdout",
     "output_type": "stream",
     "text": [
      "N?10\n",
      "10\n"
     ]
    }
   ],
   "source": [
    "# 입력하는 방법\n",
    "N = input(\"N?\")\n",
    "print(N)"
   ]
  },
  {
   "cell_type": "markdown",
   "metadata": {},
   "source": [
    "# input함수, 변수, print함수를 사용해서 계산을 해주세요\n",
    "\n",
    "#  N ? 7\n",
    "\n",
    "# M ? 7\n",
    "\n",
    "#### 결과값\n",
    "    - 덧셈 : 14\n",
    "    - 뺄셈 : 0\n",
    "    - 곱셉 : 49"
   ]
  },
  {
   "cell_type": "code",
   "execution_count": 21,
   "metadata": {},
   "outputs": [
    {
     "name": "stdout",
     "output_type": "stream",
     "text": [
      "N10\n"
     ]
    },
    {
     "data": {
      "text/plain": [
       "'10'"
      ]
     },
     "execution_count": 21,
     "metadata": {},
     "output_type": "execute_result"
    }
   ],
   "source": [
    "# 자료형\n",
    "# 문자열 : str\n",
    "# 정수 : int\n",
    "# 실수 : float"
   ]
  },
  {
   "cell_type": "code",
   "execution_count": 27,
   "metadata": {},
   "outputs": [
    {
     "name": "stdout",
     "output_type": "stream",
     "text": [
      "N?7\n",
      "M?7\n",
      "14\n",
      "0\n",
      "49\n"
     ]
    }
   ],
   "source": [
    "# 1번째 방법\n",
    "N = input(\"N?\")\n",
    "M = input(\"M?\")\n",
    "sum = int(N) + int(M)\n",
    "min = int(N) - int(M)\n",
    "mul = int(N) * int(M)\n",
    "print(sum)\n",
    "print(min)\n",
    "print(mul)"
   ]
  },
  {
   "cell_type": "code",
   "execution_count": 1,
   "metadata": {},
   "outputs": [
    {
     "name": "stdout",
     "output_type": "stream",
     "text": [
      "N?7\n",
      "M?7\n",
      "14\n",
      "0\n",
      "49\n"
     ]
    }
   ],
   "source": [
    "# 2번째 방법\n",
    "N = int(input(\"N?\"))\n",
    "M = int(input(\"M?\"))\n",
    "sum = N + M\n",
    "min = N - M\n",
    "mul = N * M\n",
    "print(sum)\n",
    "print(min)\n",
    "print(mul)"
   ]
  },
  {
   "cell_type": "markdown",
   "metadata": {},
   "source": [
    "# 형변환\n",
    "- 어떤 자료형의 값을 다른 자료형을 바꿔주는 연산\n",
    "- str -> int : int(변수이름)\n",
    "- 10 -> '10' : str(10)\n",
    "    - 자료형의 타입형식을 확인하는 함수\n",
    "    * type(변수이름)"
   ]
  },
  {
   "cell_type": "code",
   "execution_count": 2,
   "metadata": {},
   "outputs": [
    {
     "name": "stdout",
     "output_type": "stream",
     "text": [
      "<class 'int'>\n"
     ]
    }
   ],
   "source": [
    "print(type(sum))"
   ]
  },
  {
   "cell_type": "code",
   "execution_count": 6,
   "metadata": {},
   "outputs": [
    {
     "name": "stdout",
     "output_type": "stream",
     "text": [
      "<class 'str'>\n"
     ]
    }
   ],
   "source": [
    "print(type(str(sum)))"
   ]
  },
  {
   "cell_type": "markdown",
   "metadata": {},
   "source": [
    "# 관계연산자\n",
    "\n",
    "```python\n",
    "  >=,  <= ,  >,  <\n",
    "이상, 이하 초과 미만\n",
    "```\n",
    "\n",
    "- 참과 거짓\n",
    "- boolean, bool"
   ]
  },
  {
   "cell_type": "code",
   "execution_count": 2,
   "metadata": {},
   "outputs": [
    {
     "data": {
      "text/plain": [
       "False"
      ]
     },
     "execution_count": 2,
     "metadata": {},
     "output_type": "execute_result"
    }
   ],
   "source": [
    "3 > 3"
   ]
  },
  {
   "cell_type": "markdown",
   "metadata": {},
   "source": [
    "# 대입연산자\n",
    "- 산술연산자 뒤에 '='를 붙어서 대입연산자로 사용합니다.\n",
    "```python\n",
    "    덧셈 : +=\n",
    "    뺄셈 : -=\n",
    "    곱셉 : *=\n",
    "    나눗셈 : /=\n",
    "    나머지 : %=\n",
    "```\n",
    "- 변수와 변수를 산술해줄때 사용됩니다."
   ]
  },
  {
   "cell_type": "code",
   "execution_count": 3,
   "metadata": {},
   "outputs": [
    {
     "name": "stdout",
     "output_type": "stream",
     "text": [
      "6\n"
     ]
    }
   ],
   "source": [
    "num1 = 2\n",
    "num2 = 4\n",
    "num1 += num2\n",
    "print(num1)"
   ]
  },
  {
   "cell_type": "code",
   "execution_count": 7,
   "metadata": {},
   "outputs": [
    {
     "name": "stdout",
     "output_type": "stream",
     "text": [
      "12\n"
     ]
    }
   ],
   "source": [
    "num1 = 2\n",
    "num1 += 10\n",
    "print(num1)"
   ]
  },
  {
   "cell_type": "code",
   "execution_count": null,
   "metadata": {},
   "outputs": [],
   "source": []
  }
 ],
 "metadata": {
  "kernelspec": {
   "display_name": "Python 3",
   "language": "python",
   "name": "python3"
  },
  "language_info": {
   "codemirror_mode": {
    "name": "ipython",
    "version": 3
   },
   "file_extension": ".py",
   "mimetype": "text/x-python",
   "name": "python",
   "nbconvert_exporter": "python",
   "pygments_lexer": "ipython3",
   "version": "3.7.4"
  }
 },
 "nbformat": 4,
 "nbformat_minor": 2
}
