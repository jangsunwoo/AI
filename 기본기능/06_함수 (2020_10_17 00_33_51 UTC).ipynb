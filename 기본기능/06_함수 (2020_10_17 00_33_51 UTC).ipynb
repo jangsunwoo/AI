{
 "cells": [
  {
   "cell_type": "markdown",
   "metadata": {},
   "source": [
    "# 함수란?\n",
    "    * 수학적 의미 : 첫번째 집합의 임의의 원소를 두번재 집합의 오직 한 원소에 대응시키는 대응 관계\n",
    "    * 프로그래밍 의미 : 입력값을 내부에서 어떤 처리를 통해 결과를 출력하는 것\n",
    "\n",
    "* 함수용어\n",
    "    - 인자값(argument, parameter) 인풋(입력값, input), 아웃풋(결과값,리턴값, output)\n",
    "\n",
    "# 함수 사용방법\n",
    "* 다른 언어에서의 함수 선언방법:\n",
    "```python\n",
    "    void MyName(){\n",
    "        \n",
    "    }\n",
    "    \n",
    "    파이썬에서의 함수 선언 방법\n",
    "    def Myname() :\n",
    "        함수내에서 실행시킬 코드\n",
    "        return (결과값)output\n",
    "```\n",
    "* 함수를 사용하는 이유?\n",
    "* 복잡한 코드들이 모여있는 함수를 미리 만들어놓으면 편하게 사용할 수 있습니다.\n",
    "* 계속 사용해야할 코드를 모아둔다면 프로그램 작성 시간이 짧아집니다."
   ]
  },
  {
   "cell_type": "code",
   "execution_count": 13,
   "metadata": {},
   "outputs": [],
   "source": [
    "def Hello():\n",
    "    print(\"Hello\")"
   ]
  },
  {
   "cell_type": "code",
   "execution_count": 14,
   "metadata": {},
   "outputs": [
    {
     "name": "stdout",
     "output_type": "stream",
     "text": [
      "Hello\n"
     ]
    },
    {
     "data": {
      "text/plain": [
       "3"
      ]
     },
     "execution_count": 14,
     "metadata": {},
     "output_type": "execute_result"
    }
   ],
   "source": [
    "Hello()\n",
    "x1"
   ]
  },
  {
   "cell_type": "code",
   "execution_count": 3,
   "metadata": {},
   "outputs": [],
   "source": [
    "def Hello2(param):\n",
    "    print(\"Hello,\", param)"
   ]
  },
  {
   "cell_type": "code",
   "execution_count": 4,
   "metadata": {},
   "outputs": [
    {
     "name": "stdout",
     "output_type": "stream",
     "text": [
      "Hello, Python\n"
     ]
    }
   ],
   "source": [
    "Hello2(\"Python\")"
   ]
  },
  {
   "cell_type": "code",
   "execution_count": 17,
   "metadata": {},
   "outputs": [],
   "source": [
    "def Sum(num1, num2):\n",
    "    print(num1, \"+\", num2, \"=\")\n",
    "    return num1 + num2"
   ]
  },
  {
   "cell_type": "code",
   "execution_count": 18,
   "metadata": {},
   "outputs": [
    {
     "name": "stdout",
     "output_type": "stream",
     "text": [
      "1 + 2 =\n"
     ]
    },
    {
     "data": {
      "text/plain": [
       "3"
      ]
     },
     "execution_count": 18,
     "metadata": {},
     "output_type": "execute_result"
    }
   ],
   "source": [
    "Sum(1,2)"
   ]
  },
  {
   "cell_type": "code",
   "execution_count": 16,
   "metadata": {},
   "outputs": [],
   "source": [
    "def Plus(x1, x2):\n",
    "    # 지역변수 -> \n",
    "    c = 10\n",
    "    result = x1 + x2\n",
    "    return c\n",
    "\n",
    "# 전역변수 -> 어떤곳이든지 이 변수가 선언이 되어져 있는 상태라면 불러올수 있습니다.\n",
    "x1 = 3"
   ]
  },
  {
   "cell_type": "code",
   "execution_count": 20,
   "metadata": {},
   "outputs": [
    {
     "data": {
      "text/plain": [
       "10"
      ]
     },
     "execution_count": 20,
     "metadata": {},
     "output_type": "execute_result"
    }
   ],
   "source": [
    "Plus(x1,3)"
   ]
  },
  {
   "cell_type": "code",
   "execution_count": 21,
   "metadata": {},
   "outputs": [
    {
     "ename": "NameError",
     "evalue": "name 'c' is not defined",
     "output_type": "error",
     "traceback": [
      "\u001b[1;31m---------------------------------------------------------------------------\u001b[0m",
      "\u001b[1;31mNameError\u001b[0m                                 Traceback (most recent call last)",
      "\u001b[1;32m<ipython-input-21-f95978c2ce7f>\u001b[0m in \u001b[0;36m<module>\u001b[1;34m\u001b[0m\n\u001b[0;32m      1\u001b[0m \u001b[0mx1\u001b[0m\u001b[1;33m\u001b[0m\u001b[1;33m\u001b[0m\u001b[0m\n\u001b[1;32m----> 2\u001b[1;33m \u001b[0mprint\u001b[0m\u001b[1;33m(\u001b[0m\u001b[0mc\u001b[0m\u001b[1;33m)\u001b[0m\u001b[1;33m\u001b[0m\u001b[1;33m\u001b[0m\u001b[0m\n\u001b[0m",
      "\u001b[1;31mNameError\u001b[0m: name 'c' is not defined"
     ]
    }
   ],
   "source": [
    "x1\n",
    "print(c)"
   ]
  },
  {
   "cell_type": "code",
   "execution_count": 23,
   "metadata": {},
   "outputs": [
    {
     "data": {
      "text/plain": [
       "80"
      ]
     },
     "execution_count": 23,
     "metadata": {},
     "output_type": "execute_result"
    }
   ],
   "source": [
    "def Min(m1, m2):\n",
    "    negative = -10\n",
    "    result = (m1 - m2) + negative\n",
    "    return result\n",
    "\n",
    "Min(100, 10)"
   ]
  },
  {
   "cell_type": "code",
   "execution_count": 24,
   "metadata": {},
   "outputs": [],
   "source": [
    "def mul_return(a):\n",
    "    b = a + 10\n",
    "    return a, b"
   ]
  },
  {
   "cell_type": "code",
   "execution_count": 25,
   "metadata": {},
   "outputs": [
    {
     "data": {
      "text/plain": [
       "(3, 13)"
      ]
     },
     "execution_count": 25,
     "metadata": {},
     "output_type": "execute_result"
    }
   ],
   "source": [
    "mul_return(3)"
   ]
  },
  {
   "cell_type": "code",
   "execution_count": 32,
   "metadata": {},
   "outputs": [],
   "source": [
    "def number_check(num):\n",
    "    if num >= 10:\n",
    "        print(\"10보다 큽니다.\")\n",
    "    elif num <= 0:\n",
    "        print(\"0보다 작습니다.\")\n",
    "    else:\n",
    "        return print(\"10보다 작거나 0보다 큽니다\")"
   ]
  },
  {
   "cell_type": "code",
   "execution_count": 33,
   "metadata": {},
   "outputs": [
    {
     "name": "stdout",
     "output_type": "stream",
     "text": [
      "10보다 작거나 0보다 큽니다\n"
     ]
    }
   ],
   "source": [
    "number_check(9)"
   ]
  },
  {
   "cell_type": "code",
   "execution_count": 34,
   "metadata": {},
   "outputs": [],
   "source": [
    "#함수를 이용해서 id를 체크하는 함수를 만듭니다.\n",
    "#만약 id로 들어오는 인자값이 'admin'이라면 (invalid id : admin) 이라고 출력하고\n",
    "# 만약 id로 들어오는 인자값이 'admin'을 제외한 다른 아이디라면\n",
    "# (valid id : 아이디의 이름) 출력해주세요"
   ]
  },
  {
   "cell_type": "code",
   "execution_count": 35,
   "metadata": {},
   "outputs": [],
   "source": [
    "def id_check(id):\n",
    "    if id == 'admin':\n",
    "        print(\"invalid id : admin\")\n",
    "        return\n",
    "    print(\"valid id :\", id)"
   ]
  },
  {
   "cell_type": "code",
   "execution_count": 38,
   "metadata": {},
   "outputs": [
    {
     "name": "stdout",
     "output_type": "stream",
     "text": [
      "valid id : picnic\n"
     ]
    }
   ],
   "source": [
    "id_check('picnic')"
   ]
  },
  {
   "cell_type": "code",
   "execution_count": null,
   "metadata": {},
   "outputs": [],
   "source": []
  }
 ],
 "metadata": {
  "kernelspec": {
   "display_name": "Python 3",
   "language": "python",
   "name": "python3"
  },
  "language_info": {
   "codemirror_mode": {
    "name": "ipython",
    "version": 3
   },
   "file_extension": ".py",
   "mimetype": "text/x-python",
   "name": "python",
   "nbconvert_exporter": "python",
   "pygments_lexer": "ipython3",
   "version": "3.7.4"
  }
 },
 "nbformat": 4,
 "nbformat_minor": 2
}
