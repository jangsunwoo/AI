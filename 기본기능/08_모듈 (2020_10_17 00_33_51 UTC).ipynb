{
 "cells": [
  {
   "cell_type": "markdown",
   "metadata": {},
   "source": [
    "# datetime 모듈\n",
    "* 연월일이나 시분초 같은 데이터를 다루기 위한 전용 데이터형\n",
    "* date형\n",
    "    - 해당 날짜가 어떤 요일인지 계산이 가능\n",
    "* time형\n",
    "    - 시간을 표시합니다.\n",
    "    \n",
    "import datetime"
   ]
  },
  {
   "cell_type": "code",
   "execution_count": 1,
   "metadata": {},
   "outputs": [],
   "source": [
    "import datetime"
   ]
  },
  {
   "cell_type": "code",
   "execution_count": 2,
   "metadata": {},
   "outputs": [],
   "source": [
    "# date\n",
    "D_day = datetime.date(2020, 5, 15)"
   ]
  },
  {
   "cell_type": "code",
   "execution_count": 3,
   "metadata": {},
   "outputs": [
    {
     "name": "stdout",
     "output_type": "stream",
     "text": [
      "2020-05-15\n"
     ]
    }
   ],
   "source": [
    "print(D_day)"
   ]
  },
  {
   "cell_type": "code",
   "execution_count": 6,
   "metadata": {},
   "outputs": [],
   "source": [
    "# 어떤 프로그램을 종료할때 date라는 메서드를 가지고 이날 종료를 시켜주거나 업데이트\n",
    "# date.weekday-> 월=0,화=1,수=2,목=3,금=4,토=5,일=6\n",
    "theday = datetime.date(2030,12,31)"
   ]
  },
  {
   "cell_type": "code",
   "execution_count": 7,
   "metadata": {},
   "outputs": [
    {
     "name": "stdout",
     "output_type": "stream",
     "text": [
      "1\n"
     ]
    }
   ],
   "source": [
    "print(theday.weekday())"
   ]
  },
  {
   "cell_type": "code",
   "execution_count": 8,
   "metadata": {},
   "outputs": [],
   "source": [
    "#today=> 오늘 날짜를 알려주는 메서드\n",
    "today = datetime.date.today()"
   ]
  },
  {
   "cell_type": "code",
   "execution_count": 9,
   "metadata": {},
   "outputs": [
    {
     "data": {
      "text/plain": [
       "datetime.date(2020, 3, 19)"
      ]
     },
     "execution_count": 9,
     "metadata": {},
     "output_type": "execute_result"
    }
   ],
   "source": [
    "today"
   ]
  },
  {
   "cell_type": "code",
   "execution_count": 13,
   "metadata": {},
   "outputs": [
    {
     "name": "stdout",
     "output_type": "stream",
     "text": [
      "19235 days, 14:14:36.698589\n"
     ]
    }
   ],
   "source": [
    "# 아폴로11호 달표면에 도착한 한국시간 1969년7월21일5시17분40초\n",
    "space_11 = datetime.datetime(1967,7,21,5,17,40)\n",
    "# 오늘 시간\n",
    "now = datetime.datetime.now()\n",
    "timepass = now - space_11\n",
    "print(timepass)"
   ]
  },
  {
   "cell_type": "code",
   "execution_count": 15,
   "metadata": {},
   "outputs": [
    {
     "name": "stdout",
     "output_type": "stream",
     "text": [
      "19235 일이 경과했습니다.\n"
     ]
    }
   ],
   "source": [
    "# 일\n",
    "print(timepass.days, \"일이 경과했습니다.\")"
   ]
  },
  {
   "cell_type": "code",
   "execution_count": 18,
   "metadata": {},
   "outputs": [
    {
     "name": "stdout",
     "output_type": "stream",
     "text": [
      "10455\n"
     ]
    }
   ],
   "source": [
    "# 내가 태어난 날부터 오늘까지 몇일이 경과했는지 체크해봅시다.\n",
    "birth = datetime.datetime(1991, 8,4)\n",
    "now = datetime.datetime.now()\n",
    "timepass = now - birth\n",
    "print(timepass.days)"
   ]
  },
  {
   "cell_type": "markdown",
   "metadata": {},
   "source": [
    "# Turtle 모듈\n",
    "* 어떤 선이나 모형을 그릴수 있는 수동적인 그림판\n",
    "    - 선언전에 꼭 해야하는 것 : import turtle\n",
    "    - 선언방법 : 변수이름 = turtle.Turtle()\n",
    "    - 그려주는 펜의 모양을 바꾸는법\n",
    "        * 변수이름.shape(\"모양의이름\")\n",
    "            - arrow, turtle, circle, triangle, classic, square\n",
    "    - 실행 메서드\n",
    "        * forward(숫자) : 앞으로 이동\n",
    "        * backward(숫자) : 뒤로 이동\n",
    "        * right(), left() : 각도 회전\n",
    "        * circle(숫자) : 숫자의 지름만큼 원을 만듭니다.\n",
    "        * undo() : 직전의 작업을 취소합니다.\n",
    "        * home() : 원 자리로 되돌아 갑니다.(0,0)의 위치로 이동합니다.\n",
    "        * position() : 현재 좌표의 값을 알려줍니다.\n",
    "        * arrow.getscreen().window_width() : 윈도우창의 너비값\n",
    "        * arrow.getscreen().window_height(): 윈도우창의 높이값\n",
    "        * goto() : 지정된 위치로 이동이 가능(실수도 가능)\n",
    "        * distance() : 현재위치와 지정한 좌표 사이의 거리를 재는법 (픽셀단위)\n",
    "        * penup() : 이동시 선을 그려주지 않습니다.\n",
    "        * pendown() : 이동시 선을 그려줍니다.\n",
    "        "
   ]
  },
  {
   "cell_type": "markdown",
   "metadata": {},
   "source": [
    "# 숙제\n",
    "\n",
    ">>> #정육면체 만들어 주세요\n",
    ">>> #육각형을 이어서 7개 만들어주세요\n",
    ">>> 원을 겹쳐서 더큰원으로 만들어주세요"
   ]
  },
  {
   "cell_type": "code",
   "execution_count": null,
   "metadata": {},
   "outputs": [],
   "source": []
  }
 ],
 "metadata": {
  "kernelspec": {
   "display_name": "Python 3",
   "language": "python",
   "name": "python3"
  },
  "language_info": {
   "codemirror_mode": {
    "name": "ipython",
    "version": 3
   },
   "file_extension": ".py",
   "mimetype": "text/x-python",
   "name": "python",
   "nbconvert_exporter": "python",
   "pygments_lexer": "ipython3",
   "version": "3.7.4"
  }
 },
 "nbformat": 4,
 "nbformat_minor": 2
}
