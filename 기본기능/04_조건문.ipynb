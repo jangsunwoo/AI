{
 "cells": [
  {
   "cell_type": "markdown",
   "metadata": {},
   "source": [
    "# 조건문\n",
    "- 특정조건을 충족한다면 그 조건 아래에 있는 코드를 실행시킵니다.\n",
    "- 분기점\n",
    "\n",
    "#### if 조건:\n",
    "    * 실행 코드\n",
    "#### if 조건 1 and 조건2:\n",
    "    * 실행 코드\n",
    "#### if 조건 1 or 조건2:\n",
    "    * 실행 코드\n",
    "#### if not 조건:\n",
    "    * 실행 코드\n",
    "#### elif 조건 :\n",
    "    * 실행 코드\n",
    "#### else :\n",
    "    * 실행코드"
   ]
  },
  {
   "cell_type": "code",
   "execution_count": 4,
   "metadata": {},
   "outputs": [
    {
     "name": "stdout",
     "output_type": "stream",
     "text": [
      "11\n",
      "성인이 아닙니다.\n"
     ]
    }
   ],
   "source": [
    "age = int(input())\n",
    "if age > 18:\n",
    "    print(\"성인입니다.\")\n",
    "else :\n",
    "    print(\"성인이 아닙니다.\")"
   ]
  },
  {
   "cell_type": "code",
   "execution_count": 7,
   "metadata": {},
   "outputs": [
    {
     "ename": "SyntaxError",
     "evalue": "invalid syntax (<ipython-input-7-273dba76f79b>, line 2)",
     "output_type": "error",
     "traceback": [
      "\u001b[1;36m  File \u001b[1;32m\"<ipython-input-7-273dba76f79b>\"\u001b[1;36m, line \u001b[1;32m2\u001b[0m\n\u001b[1;33m    if age > 18 && age < 31:\u001b[0m\n\u001b[1;37m                 ^\u001b[0m\n\u001b[1;31mSyntaxError\u001b[0m\u001b[1;31m:\u001b[0m invalid syntax\n"
     ]
    }
   ],
   "source": [
    "age = int(input())\n",
    "if age > 18 and age < 31:\n",
    "    print(\"성인입니다\")"
   ]
  },
  {
   "cell_type": "code",
   "execution_count": 8,
   "metadata": {},
   "outputs": [
    {
     "name": "stdout",
     "output_type": "stream",
     "text": [
      "22\n",
      "성인입니다\n"
     ]
    }
   ],
   "source": [
    "age = int(input())\n",
    "if age > 18 or age < 31:\n",
    "    print(\"성인입니다\")"
   ]
  },
  {
   "cell_type": "code",
   "execution_count": 10,
   "metadata": {},
   "outputs": [
    {
     "name": "stdout",
     "output_type": "stream",
     "text": [
      "11\n",
      "성인이 아닙니다\n"
     ]
    }
   ],
   "source": [
    "age = int(input())\n",
    "if not age > 18 :\n",
    "    print(\"성인이 아닙니다\")"
   ]
  },
  {
   "cell_type": "code",
   "execution_count": 17,
   "metadata": {},
   "outputs": [
    {
     "name": "stdout",
     "output_type": "stream",
     "text": [
      "3\n",
      "영유아입니다.\n"
     ]
    }
   ],
   "source": [
    "age = int(input())\n",
    "if age > 18 :\n",
    "    print(\"성인입니다.\")\n",
    "elif age >= 13 and age <= 18:\n",
    "    print(\"청소년입니다.\")\n",
    "# 1번 if, 2번 elif\n",
    "elif age >= 5 and age <= 13:\n",
    "    print(\"유아입니다.\")\n",
    "else:\n",
    "    print(\"영유아입니다.\")"
   ]
  },
  {
   "cell_type": "code",
   "execution_count": null,
   "metadata": {},
   "outputs": [],
   "source": [
    "cash = int(input())\n",
    "if cash > 100000:\n",
    "    print(\"고급 레스토랑을 갑니다.\")\n",
    "else:\n",
    "    if cash > 50000:\n",
    "        print(\"일반 레스토랑을 갑니다.\")\n",
    "    elif cash > 30000:\n",
    "        print(\"국밥집을 갑니다.\")\n",
    "    else :\n",
    "        print(\"그냥 집밥을 먹습니다.\")"
   ]
  }
 ],
 "metadata": {
  "kernelspec": {
   "display_name": "Python 3",
   "language": "python",
   "name": "python3"
  },
  "language_info": {
   "codemirror_mode": {
    "name": "ipython",
    "version": 3
   },
   "file_extension": ".py",
   "mimetype": "text/x-python",
   "name": "python",
   "nbconvert_exporter": "python",
   "pygments_lexer": "ipython3",
   "version": "3.7.4"
  }
 },
 "nbformat": 4,
 "nbformat_minor": 2
}
