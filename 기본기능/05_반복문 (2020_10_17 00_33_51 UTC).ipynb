{
 "cells": [
  {
   "cell_type": "markdown",
   "metadata": {},
   "source": [
    "# 반복문\n",
    "* 어떤 기능이나 코드를 반복하기 위해서 사용하는 구문\n",
    "```python\n",
    "    for 변수이름 in 돌리고 싶은 횟수(변수, 함수):\n",
    "        실행시킬 코드\n",
    "     \n",
    "    while 변수이름 조건식 :\n",
    "        실행시킬 코드\n",
    "```"
   ]
  },
  {
   "cell_type": "code",
   "execution_count": 2,
   "metadata": {},
   "outputs": [
    {
     "name": "stdout",
     "output_type": "stream",
     "text": [
      "1\n",
      "2\n",
      "3\n",
      "4\n",
      "5\n",
      "6\n",
      "7\n",
      "8\n",
      "9\n",
      "10\n"
     ]
    }
   ],
   "source": [
    "# 돌리고 싶은 횟수를 정할때는 범위를 뜻하는 range(횟수, 변수)\n",
    "for index in range(10):\n",
    "    print(index + 1)"
   ]
  },
  {
   "cell_type": "code",
   "execution_count": 7,
   "metadata": {},
   "outputs": [
    {
     "name": "stdout",
     "output_type": "stream",
     "text": [
      "1\n",
      "3\n",
      "6\n",
      "10\n",
      "15\n",
      "21\n",
      "28\n",
      "36\n",
      "45\n",
      "55\n"
     ]
    }
   ],
   "source": [
    "sum = 0\n",
    "for index in range(10):\n",
    "    sum = sum + (index + 1)\n",
    "    print(sum)"
   ]
  },
  {
   "cell_type": "code",
   "execution_count": 9,
   "metadata": {},
   "outputs": [
    {
     "name": "stdout",
     "output_type": "stream",
     "text": [
      "3628800\n"
     ]
    }
   ],
   "source": [
    "# for문을 이용해서 1 ~ 10까지 곱셈값을 출력해주세요\n",
    "# 3628800\n",
    "num = 1\n",
    "for index in range(1, 11):\n",
    "    num *= index\n",
    "print(num)"
   ]
  },
  {
   "cell_type": "code",
   "execution_count": 11,
   "metadata": {},
   "outputs": [
    {
     "name": "stdout",
     "output_type": "stream",
     "text": [
      "list1\n",
      "list2\n",
      "list3\n",
      "list4\n"
     ]
    }
   ],
   "source": [
    "data_list = ['list1', 'list2','list3','list4']\n",
    "for datas in data_list:\n",
    "    print(datas)"
   ]
  },
  {
   "cell_type": "code",
   "execution_count": 14,
   "metadata": {},
   "outputs": [
    {
     "name": "stdout",
     "output_type": "stream",
     "text": [
      "이름을 적어주세요 : 톻ㅁ\n",
      "안녕하세요 톻ㅁ씨!윌 보셨나요?\n",
      "이름을 적어주세요 : 윌\n",
      "안녕하세요 윌씨!윌 보셨나요?\n"
     ]
    }
   ],
   "source": [
    "name = ' ';\n",
    "while name != '윌':\n",
    "    name = input(\"이름을 적어주세요 : \")\n",
    "    print(\"안녕하세요 \" + name + \"씨!\" + \"윌 보셨나요?\")"
   ]
  },
  {
   "cell_type": "markdown",
   "metadata": {},
   "source": [
    "# 구구단을 만듭니다.\n",
    "* 사용자로부터 2 ~ 9 사이의 숫자를 입력받은 후, 해당 숫자에 대한 구구단을 출력"
   ]
  },
  {
   "cell_type": "code",
   "execution_count": 19,
   "metadata": {},
   "outputs": [
    {
     "name": "stdout",
     "output_type": "stream",
     "text": [
      "1\n"
     ]
    }
   ],
   "source": [
    "number = int(input())\n",
    "if number >= 2 and number <= 9:\n",
    "    for mul in range(1, 10):\n",
    "        cal = number * mul\n",
    "        print(number, \"X\", mul, \" = \", cal)"
   ]
  },
  {
   "cell_type": "markdown",
   "metadata": {},
   "source": [
    "# 하나로 된 문자열 한줄에 하나씩 이름 출력하기\n",
    "* 사용자로부터 , 로 구분된 여러 이름을 입력받아서 한줄에 하나씩 출려가헷요\n",
    "    * 사용자 입력 : Dave,David,Andy,Andrew\n",
    "    * 출력 예) <br>\n",
    "    Dave <br>\n",
    "    David<br>\n",
    "    Andy<br>\n",
    "    Andrew\n",
    "    "
   ]
  },
  {
   "cell_type": "code",
   "execution_count": 20,
   "metadata": {},
   "outputs": [
    {
     "name": "stdout",
     "output_type": "stream",
     "text": [
      "Dave,Andy,Andrew,David\n",
      "Dave\n",
      "Andy\n",
      "Andrew\n",
      "David\n"
     ]
    }
   ],
   "source": [
    "name = input()\n",
    "name_list = name.split(',')\n",
    "for index in name_list:\n",
    "    print(index)"
   ]
  },
  {
   "cell_type": "markdown",
   "metadata": {},
   "source": [
    "##### 사용자 입력 : [Dave],[David],[Andy],[Andrew]\n",
    "  * 출력 예) <br>\n",
    "    Dave <br>\n",
    "    David<br>\n",
    "    Andy<br>\n",
    "    Andrew"
   ]
  },
  {
   "cell_type": "code",
   "execution_count": 24,
   "metadata": {},
   "outputs": [
    {
     "name": "stdout",
     "output_type": "stream",
     "text": [
      "Dave\n",
      "David\n",
      "Andy\n",
      "Andrew\n"
     ]
    }
   ],
   "source": [
    "data = \"[Dave],[David],[Andy],[Andrew]\"\n",
    "for data_list in data.split(','):\n",
    "    print(data_list[1:-1])"
   ]
  },
  {
   "cell_type": "markdown",
   "metadata": {},
   "source": [
    "* 1 ~ 30까지의 숫자중 3의 배수만 출력해주세요"
   ]
  },
  {
   "cell_type": "code",
   "execution_count": 25,
   "metadata": {},
   "outputs": [
    {
     "name": "stdout",
     "output_type": "stream",
     "text": [
      "3\n",
      "6\n",
      "9\n",
      "12\n",
      "15\n",
      "18\n",
      "21\n",
      "24\n",
      "27\n",
      "30\n"
     ]
    }
   ],
   "source": [
    "for index in range(1, 31):\n",
    "    if index % 3 == 0:\n",
    "        print(index)"
   ]
  },
  {
   "cell_type": "markdown",
   "metadata": {},
   "source": [
    "while을 이용해서 1 ~ 100까지 숫자를 모두 더한 값을 출력"
   ]
  },
  {
   "cell_type": "code",
   "execution_count": 1,
   "metadata": {},
   "outputs": [
    {
     "name": "stdout",
     "output_type": "stream",
     "text": [
      "5050\n"
     ]
    }
   ],
   "source": [
    "#합계 변수\n",
    "sum = 0\n",
    "# 카운트 변수\n",
    "count = 1\n",
    "while count <= 100:\n",
    "    sum += count\n",
    "    count += 1\n",
    "    \n",
    "print(sum)"
   ]
  },
  {
   "cell_type": "markdown",
   "metadata": {},
   "source": [
    "사용자로부터 4자리의 숫자로 구성된 비밀번호를 입력받아서\n",
    "    * 비밀번호가 같다면 \"비밀번호가 같습니다.\"를 출력받고\n",
    "    * 비밀번호가 다르다면 \"비밀번호가 틀렸습니다.\"를 출력하고 다시 사용자로부터\n",
    "    데이터를 입력받으세요.\n",
    "        * 비밀번호는 '4321'입니다."
   ]
  },
  {
   "cell_type": "code",
   "execution_count": 1,
   "metadata": {},
   "outputs": [
    {
     "name": "stdout",
     "output_type": "stream",
     "text": [
      "비밀번호를 입력해주세요 :1234\n",
      "비밀번호가 틀렸습니다.\n",
      "비밀번호를 입력해주세요 :3214\n",
      "비밀번호가 틀렸습니다.\n",
      "비밀번호를 입력해주세요 :4321\n",
      "비밀번호가 같습니다.\n"
     ]
    }
   ],
   "source": [
    "key = '4321'\n",
    "# 입력받을 변수\n",
    "GetKey = input(\"비밀번호를 입력해주세요 :\")\n",
    "while GetKey != key:\n",
    "    print(\"비밀번호가 틀렸습니다.\")\n",
    "    GetKey = input(\"비밀번호를 입력해주세요 :\")\n",
    "print(\"비밀번호가 같습니다.\")"
   ]
  },
  {
   "cell_type": "code",
   "execution_count": 4,
   "metadata": {},
   "outputs": [
    {
     "name": "stdout",
     "output_type": "stream",
     "text": [
      "2 X 1 = 2\n",
      "2 X 2 = 4\n",
      "2 X 3 = 6\n",
      "2 X 4 = 8\n",
      "2 X 5 = 10\n",
      "2 X 6 = 12\n",
      "2 X 7 = 14\n",
      "2 X 8 = 16\n",
      "2 X 9 = 18\n",
      "\n",
      "\n",
      "3 X 2 = 6\n",
      "3 X 4 = 12\n",
      "3 X 6 = 18\n",
      "3 X 8 = 24\n",
      "\n",
      "\n",
      "4 X 1 = 4\n",
      "4 X 2 = 8\n",
      "4 X 3 = 12\n",
      "4 X 4 = 16\n",
      "4 X 5 = 20\n",
      "4 X 6 = 24\n",
      "4 X 7 = 28\n",
      "4 X 8 = 32\n",
      "4 X 9 = 36\n",
      "\n",
      "\n",
      "5 X 2 = 10\n",
      "5 X 4 = 20\n",
      "5 X 6 = 30\n",
      "5 X 8 = 40\n",
      "\n",
      "\n",
      "6 X 1 = 6\n",
      "6 X 2 = 12\n",
      "6 X 3 = 18\n",
      "6 X 4 = 24\n",
      "6 X 5 = 30\n",
      "6 X 6 = 36\n",
      "6 X 7 = 42\n",
      "6 X 8 = 48\n",
      "6 X 9 = 54\n",
      "\n",
      "\n",
      "7 X 2 = 14\n",
      "7 X 4 = 28\n",
      "7 X 6 = 42\n",
      "7 X 8 = 56\n",
      "\n",
      "\n",
      "8 X 1 = 8\n",
      "8 X 2 = 16\n",
      "8 X 3 = 24\n",
      "8 X 4 = 32\n",
      "8 X 5 = 40\n",
      "8 X 6 = 48\n",
      "8 X 7 = 56\n",
      "8 X 8 = 64\n",
      "8 X 9 = 72\n",
      "\n",
      "\n",
      "9 X 2 = 18\n",
      "9 X 4 = 36\n",
      "9 X 6 = 54\n",
      "9 X 8 = 72\n",
      "\n",
      "\n"
     ]
    }
   ],
   "source": [
    "# 구구단 2단부터 9단까지 바로 출력해줍니다.\n",
    "# 결과값이 짝수인 경우에만 출력이 되게 해주세요.\n",
    "for count in range(2, 10):\n",
    "    for number in range(1, 10):\n",
    "        if number*count % 2 == 0:\n",
    "            print(count, \"X\", number, \"=\", count * number)\n",
    "    print(\"\\n\")"
   ]
  },
  {
   "cell_type": "code",
   "execution_count": 5,
   "metadata": {},
   "outputs": [
    {
     "name": "stdout",
     "output_type": "stream",
     "text": [
      "101동 103호\n",
      "101동 104호\n",
      "101동 105호\n",
      "101동 106호\n",
      "\n",
      "\n",
      "102동 103호\n",
      "102동 104호\n",
      "102동 105호\n",
      "102동 106호\n",
      "\n",
      "\n",
      "103동 103호\n",
      "103동 104호\n",
      "103동 105호\n",
      "103동 106호\n",
      "\n",
      "\n",
      "104동 103호\n",
      "104동 104호\n",
      "104동 105호\n",
      "104동 106호\n",
      "\n",
      "\n"
     ]
    }
   ],
   "source": [
    "#이중 반복문을 통해 두 리스트 변수를 활용해서 출력을 합니다.\n",
    "dongs = [\"101동\", \"102동\",\"103동\", \"104동\"]\n",
    "hos = [\"103호\", \"104호\", \"105호\", \"106호\"]\n",
    "\n",
    "# 출력 예\n",
    "\"\"\"\n",
    "101동 103호\n",
    "101동 104호\n",
    "101동 105호\n",
    "101동 106호\n",
    "...\n",
    "\n",
    "104동 106호\n",
    "\"\"\"\n",
    "\n",
    "for dong in dongs:\n",
    "    for ho in hos:\n",
    "        print(dong, ho)\n",
    "    print(\"\\n\")"
   ]
  },
  {
   "cell_type": "code",
   "execution_count": null,
   "metadata": {},
   "outputs": [],
   "source": []
  }
 ],
 "metadata": {
  "kernelspec": {
   "display_name": "Python 3",
   "language": "python",
   "name": "python3"
  },
  "language_info": {
   "codemirror_mode": {
    "name": "ipython",
    "version": 3
   },
   "file_extension": ".py",
   "mimetype": "text/x-python",
   "name": "python",
   "nbconvert_exporter": "python",
   "pygments_lexer": "ipython3",
   "version": "3.7.4"
  }
 },
 "nbformat": 4,
 "nbformat_minor": 2
}
