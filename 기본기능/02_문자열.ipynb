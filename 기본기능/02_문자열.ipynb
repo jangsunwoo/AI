{
 "cells": [
  {
   "cell_type": "markdown",
   "metadata": {},
   "source": [
    "# 문자열\n",
    "- 어떤 문자를 쓸수 있는 형식\n",
    "- '\\n' -> 개행문자입니다.\n",
    "- '\\n'이 후에는 다음 문단으로 넘어갑니다."
   ]
  },
  {
   "cell_type": "code",
   "execution_count": 4,
   "metadata": {},
   "outputs": [],
   "source": [
    "words = \"어떤것이든 다 적어도 괜찮습니다.\""
   ]
  },
  {
   "cell_type": "code",
   "execution_count": 5,
   "metadata": {},
   "outputs": [
    {
     "data": {
      "text/plain": [
       "'어떤것이든 다 적어도 괜찮습니다.'"
      ]
     },
     "execution_count": 5,
     "metadata": {},
     "output_type": "execute_result"
    }
   ],
   "source": [
    "words"
   ]
  },
  {
   "cell_type": "code",
   "execution_count": 7,
   "metadata": {},
   "outputs": [],
   "source": [
    "words = \"어떤것이든지 다 허용이 됩니다. \\\n",
    "다만, 잠을 자는 것은 안됩니다.\""
   ]
  },
  {
   "cell_type": "code",
   "execution_count": 8,
   "metadata": {},
   "outputs": [],
   "source": [
    "words2 = \"\"\"어떤것이든지 다 허용이 됩니다.\n",
    "다만, 잠을 자는 것은 안됩니다.\n",
    "\"\"\""
   ]
  },
  {
   "cell_type": "code",
   "execution_count": 9,
   "metadata": {},
   "outputs": [
    {
     "data": {
      "text/plain": [
       "'어떤것이든지 다 허용이 됩니다. 다만, 잠을 자는 것은 안됩니다.'"
      ]
     },
     "execution_count": 9,
     "metadata": {},
     "output_type": "execute_result"
    }
   ],
   "source": [
    "words"
   ]
  },
  {
   "cell_type": "code",
   "execution_count": 10,
   "metadata": {},
   "outputs": [
    {
     "data": {
      "text/plain": [
       "'어떤것이든지 다 허용이 됩니다.\\n다만, 잠을 자는 것은 안됩니다.\\n'"
      ]
     },
     "execution_count": 10,
     "metadata": {},
     "output_type": "execute_result"
    }
   ],
   "source": [
    "words2"
   ]
  },
  {
   "cell_type": "markdown",
   "metadata": {},
   "source": [
    "# 문자열 카운트\n",
    "\n",
    "- .count(\"부분문자열\")\n",
    "- len\n",
    "    * 문자열의 길이를 확인하는 함수입니다."
   ]
  },
  {
   "cell_type": "code",
   "execution_count": 12,
   "metadata": {},
   "outputs": [
    {
     "data": {
      "text/plain": [
       "4"
      ]
     },
     "execution_count": 12,
     "metadata": {},
     "output_type": "execute_result"
    }
   ],
   "source": [
    "words.count(\"다\")"
   ]
  },
  {
   "cell_type": "code",
   "execution_count": 13,
   "metadata": {},
   "outputs": [
    {
     "data": {
      "text/plain": [
       "36"
      ]
     },
     "execution_count": 13,
     "metadata": {},
     "output_type": "execute_result"
    }
   ],
   "source": [
    "len(words)"
   ]
  },
  {
   "cell_type": "markdown",
   "metadata": {},
   "source": [
    "# .find()\n",
    "- .find(\"찾고싶은 문자\")\n",
    "    * 찾고 싶은 문자가 몇번째 칸 뒤에 있다는 것을 알려줍니다."
   ]
  },
  {
   "cell_type": "code",
   "execution_count": 14,
   "metadata": {},
   "outputs": [
    {
     "data": {
      "text/plain": [
       "9"
      ]
     },
     "execution_count": 14,
     "metadata": {},
     "output_type": "execute_result"
    }
   ],
   "source": [
    "words.find(\"허용\")"
   ]
  },
  {
   "cell_type": "code",
   "execution_count": 15,
   "metadata": {},
   "outputs": [
    {
     "name": "stdout",
     "output_type": "stream",
     "text": [
      "159\n"
     ]
    }
   ],
   "source": [
    "news = \"\"\"최근 일부 통신사가 출고가를 100만원 이하로 낮춘 삼성전자의 '갤럭시 S10 5G'가 사실상 공짜(할부원금 0원)에 팔리고 있는 것으로 확인됐다. 이른바 '차비'(페이백)를 덤으로 주는 곳도 있다.\n",
    "\n",
    "갤럭시 S20 출시에도 코로나19 확산 여파로 스마트폰 소비 심리가 꽁꽁 얼어붙자 불법 보조금이 기승을 부릴 조짐이다. 정부는 그럼에도 코로나19로 어려움을 겪는 유통 판매점 지원을 위해 '폰파라치' 포상금을 한시적으로 낮추기로 했다.\"\"\"\n",
    "print(news.find(\"불법\"))\n"
   ]
  },
  {
   "cell_type": "markdown",
   "metadata": {},
   "source": [
    "# .replace(\"찾을 문자\", \"바꿀 단어\")"
   ]
  },
  {
   "cell_type": "code",
   "execution_count": 16,
   "metadata": {},
   "outputs": [
    {
     "data": {
      "text/plain": [
       "\"최근 일부 통신사가 출고가를 100만원 이하로 낮춘 삼성전자의 '우주 S10 5G'가 사실상 공짜(할부원금 0원)에 팔리고 있는 것으로 확인됐다. 이른바 '차비'(페이백)를 덤으로 주는 곳도 있다.\\n\\n우주 S20 출시에도 코로나19 확산 여파로 스마트폰 소비 심리가 꽁꽁 얼어붙자 불법 보조금이 기승을 부릴 조짐이다. 정부는 그럼에도 코로나19로 어려움을 겪는 유통 판매점 지원을 위해 '폰파라치' 포상금을 한시적으로 낮추기로 했다.\""
      ]
     },
     "execution_count": 16,
     "metadata": {},
     "output_type": "execute_result"
    }
   ],
   "source": [
    "news.replace(\"갤럭시\", \"우주\")"
   ]
  },
  {
   "cell_type": "code",
   "execution_count": null,
   "metadata": {},
   "outputs": [],
   "source": []
  }
 ],
 "metadata": {
  "kernelspec": {
   "display_name": "Python 3",
   "language": "python",
   "name": "python3"
  },
  "language_info": {
   "codemirror_mode": {
    "name": "ipython",
    "version": 3
   },
   "file_extension": ".py",
   "mimetype": "text/x-python",
   "name": "python",
   "nbconvert_exporter": "python",
   "pygments_lexer": "ipython3",
   "version": "3.7.4"
  }
 },
 "nbformat": 4,
 "nbformat_minor": 2
}
