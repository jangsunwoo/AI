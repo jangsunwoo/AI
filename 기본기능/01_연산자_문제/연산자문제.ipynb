{
 "cells": [
  {
   "cell_type": "markdown",
   "metadata": {},
   "source": [
    "# 문제 1 출력\n",
    "- 화면에 \"Hello World\"를 출력해주세요"
   ]
  },
  {
   "cell_type": "code",
   "execution_count": 1,
   "metadata": {},
   "outputs": [
    {
     "name": "stdout",
     "output_type": "stream",
     "text": [
      "Hello World\n"
     ]
    }
   ],
   "source": [
    "print(\"Hello World\")"
   ]
  },
  {
   "cell_type": "markdown",
   "metadata": {},
   "source": [
    "# 문제 2 출력\n",
    "- print함수를 사용해서 3.1415의 값을 출력해주세요\n",
    "    * 단, 소수점 아래는 첫번째 자리까지 표시되도록 합니다.\n",
    "    * format(변수이름, \".1f\")\n",
    "        - \".숫자f\"는 .아래의 숫자 몇번째 자리까지 표시할지 인터프리터에 명령을 해주는 형식입니다."
   ]
  },
  {
   "cell_type": "code",
   "execution_count": 5,
   "metadata": {},
   "outputs": [
    {
     "name": "stdout",
     "output_type": "stream",
     "text": [
      "3.1\n"
     ]
    }
   ],
   "source": [
    "PI = 3.1415\n",
    "print(format(PI, \".1f\"))"
   ]
  },
  {
   "cell_type": "code",
   "execution_count": 6,
   "metadata": {},
   "outputs": [
    {
     "data": {
      "text/plain": [
       "3.1"
      ]
     },
     "execution_count": 6,
     "metadata": {},
     "output_type": "execute_result"
    }
   ],
   "source": [
    "round(3.1415, 1)"
   ]
  },
  {
   "cell_type": "code",
   "execution_count": 10,
   "metadata": {},
   "outputs": [
    {
     "data": {
      "text/plain": [
       "3.1"
      ]
     },
     "execution_count": 10,
     "metadata": {},
     "output_type": "execute_result"
    }
   ],
   "source": [
    "round(PI, 1)"
   ]
  },
  {
   "cell_type": "markdown",
   "metadata": {},
   "source": [
    "# 문제 3 형변환\n",
    "* 문자열 '720'을 정수형으로 변환해주세요.\n",
    "* 정수형 100을 문자열 '100'으로 변환해주세요."
   ]
  },
  {
   "cell_type": "code",
   "execution_count": 15,
   "metadata": {},
   "outputs": [
    {
     "name": "stdout",
     "output_type": "stream",
     "text": [
      "720\n",
      "100\n"
     ]
    }
   ],
   "source": [
    "data1 = '720'\n",
    "data2 = 100\n",
    "print(int(data1))\n",
    "print((str(data2)))"
   ]
  },
  {
   "cell_type": "markdown",
   "metadata": {},
   "source": [
    "# 문제 4 연산\n",
    "* 2와 5 숫자를 변수에 넣고, 두 변수를 더한값 곱한값, 나눈값을 출력해주세요\n",
    "* 밑이 6이고 지수가 2일때 거듭 제곱의 값을 출력해주세요\n",
    "    * 6의 2승"
   ]
  },
  {
   "cell_type": "code",
   "execution_count": 17,
   "metadata": {},
   "outputs": [
    {
     "name": "stdout",
     "output_type": "stream",
     "text": [
      "7\n",
      "10\n",
      "0.4\n",
      "6의 2승은? 36\n"
     ]
    }
   ],
   "source": [
    "data3 = 2\n",
    "data4 = 5\n",
    "print(data3 + data4)\n",
    "print(data3 * data4)\n",
    "print(data3 / data4)\n",
    "print(\"6의 2승은?\", 6 ** 2)"
   ]
  },
  {
   "cell_type": "markdown",
   "metadata": {},
   "source": [
    "# 문제 5 입력과 출력\n",
    "    * 사용자로부터 두개의 숫자를 입력받은 후 두개의 숫자를 더한 값, 곱한값, 나눈값, 나눈 몫, 나머지 값을 각각 다음과 같이 출력하는 프로그램을 작성해주세요.\n",
    "    \n",
    "```python\n",
    "        입력 : 4, 4\n",
    "        출력:\n",
    "        4 + 4 = 8\n",
    "        4 * 4 = 16\n",
    "        4 / 4 = 1\n",
    "        4 // 4 = 1\n",
    "        4 % 4 = 0\n",
    "```"
   ]
  },
  {
   "cell_type": "code",
   "execution_count": 20,
   "metadata": {},
   "outputs": [
    {
     "name": "stdout",
     "output_type": "stream",
     "text": [
      "4\n",
      "4\n",
      "4 + 4 = 8\n",
      "4 * 4 = 16\n",
      "4 / 4 = 1.0\n",
      "4 // 4 = 1\n",
      "4 % 4 = 0\n"
     ]
    }
   ],
   "source": [
    "data1 = int(input())\n",
    "data2 = int(input())\n",
    "\n",
    "print(data1, \"+\", data2, \"=\", data1+data2)\n",
    "print(data1, \"*\", data2, \"=\", data1*data2)\n",
    "print(data1, \"/\", data2, \"=\", data1/data2)\n",
    "print(data1, \"//\", data2, \"=\", data1//data2)\n",
    "print(data1, \"%\", data2, \"=\", data1%data2)"
   ]
  },
  {
   "cell_type": "code",
   "execution_count": null,
   "metadata": {},
   "outputs": [],
   "source": []
  }
 ],
 "metadata": {
  "kernelspec": {
   "display_name": "Python 3",
   "language": "python",
   "name": "python3"
  },
  "language_info": {
   "codemirror_mode": {
    "name": "ipython",
    "version": 3
   },
   "file_extension": ".py",
   "mimetype": "text/x-python",
   "name": "python",
   "nbconvert_exporter": "python",
   "pygments_lexer": "ipython3",
   "version": "3.7.4"
  }
 },
 "nbformat": 4,
 "nbformat_minor": 2
}
