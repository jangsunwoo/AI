{
 "cells": [
  {
   "cell_type": "markdown",
   "metadata": {},
   "source": [
    "# 문제 1 문자열과 인덱스\n",
    "* 사용자로부터 주민등록번호를 입력받아 출생연도를 출력해주세요\n",
    "    * 예) 900001-1231231 주민번호를 입력받으면 90을 출력하면 됩니다."
   ]
  },
  {
   "cell_type": "code",
   "execution_count": 3,
   "metadata": {},
   "outputs": [
    {
     "name": "stdout",
     "output_type": "stream",
     "text": [
      "주민번호를 입력해주세요 : 900001-1231231\n",
      "90\n"
     ]
    }
   ],
   "source": [
    "data = input('주민번호를 입력해주세요 : ')\n",
    "data_list = data.split('-')\n",
    "first = data_list[0]\n",
    "print(first[0:2])"
   ]
  },
  {
   "cell_type": "markdown",
   "metadata": {},
   "source": [
    "# 문제 2 데이터 구조\n",
    "* 사용자로부터 주민등록번호를 입력받아 뒷자리 맨 앞의 숫자를 출력해주세요\n",
    "    * 주민등록번호 뒷자리 맨 앞번호는 성별을 뜻합니다.\n",
    "    * 예) 900001-1231231 주민번호를 입력받으면 1을 출력하면 됩니다."
   ]
  },
  {
   "cell_type": "code",
   "execution_count": 4,
   "metadata": {},
   "outputs": [
    {
     "name": "stdout",
     "output_type": "stream",
     "text": [
      "주민번호를 입력해주세요 : 900001-1231231\n",
      "1\n"
     ]
    }
   ],
   "source": [
    "data = input('주민번호를 입력해주세요 : ')\n",
    "data_list = data.split('-')\n",
    "last = data_list[1]\n",
    "print(last[0])"
   ]
  },
  {
   "cell_type": "code",
   "execution_count": null,
   "metadata": {},
   "outputs": [],
   "source": []
  }
 ],
 "metadata": {
  "kernelspec": {
   "display_name": "Python 3",
   "language": "python",
   "name": "python3"
  },
  "language_info": {
   "codemirror_mode": {
    "name": "ipython",
    "version": 3
   },
   "file_extension": ".py",
   "mimetype": "text/x-python",
   "name": "python",
   "nbconvert_exporter": "python",
   "pygments_lexer": "ipython3",
   "version": "3.7.4"
  }
 },
 "nbformat": 4,
 "nbformat_minor": 2
}
