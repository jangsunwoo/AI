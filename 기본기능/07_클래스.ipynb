{
 "cells": [
  {
   "cell_type": "markdown",
   "metadata": {},
   "source": [
    "# 파이썬은 객체지향(내부)\n",
    "# 객체지향 문법(지원)\n",
    "\n",
    "# 객체지향 프로그래밍 언어\n",
    "    * JAVA, C++\n",
    "    \n",
    "# 절차지향 프로그래밍 언어\n",
    "    * 파스칼, 코볼, C언어\n",
    "# 객체지향 프로그래밍 언어란?\n",
    "    * 객체(object)단위로 데이터와 기능을 하나로 묶어서 사용하는 언어\n",
    "   <img src=\"classimg.png\" />"
   ]
  },
  {
   "cell_type": "markdown",
   "metadata": {},
   "source": [
    "# 일반적으로 생각하는 코끼리를 냉장고 집어넣는 법\n",
    "1. 냉장고 문을 연다.\n",
    "2. 코끼리를 냉장고에 넣는다.\n",
    "3. 냉장고 문을 닫는다.\n",
    "---------------------------------------------------\n",
    "# 프로그래밍에서 코끼를 냉장고 넣는 법\n",
    "1. 코끼리라는 사물의 기능, 정보에 대한 설계도를 만듭니다.\n",
    "2. 설계도를 가지고 코끼리 1 객체를 만듭니다.\n",
    "3. 냉장고라는 사물의 기능, 정보에 대한 설계도를 만듭니다.\n",
    "4. 이 설계도를 가지고 냉장고1 객체를 만듭니다.\n",
    "5. 코끼리1 객체의 기능을 호출해서, 냉장고1의 객체의 문을 엽니다.\n",
    "6. 코끼리1 객체의 기능을 호출해서, 냉장고1의 객체안으로 들어갑니다.\n",
    "7. 코끼리1 객체의 기능을 호출해서, 냉장고1의 객체의 문을 닫습니다.\n",
    "-----------------------------------------------------\n",
    "1. 어떤 객체를 나타낼수 있는 설계도를 만드는 것(class)\n",
    "2. 설계도를 가지고 어떤 사물의 객체를 만드는것(object)\n",
    "3. 물체의 기능을 호출합니다.\n",
    "    - 3-1 사물 객체의 변수 : attribute\n",
    "    - 3-2 사물 객체의 함수 : method\n",
    "    ```python\n",
    "        사물객체의이름.method의이름(인자)\n",
    "    ```"
   ]
  },
  {
   "cell_type": "code",
   "execution_count": 1,
   "metadata": {},
   "outputs": [
    {
     "name": "stdout",
     "output_type": "stream",
     "text": [
      "재밌는 파이썬\n"
     ]
    }
   ],
   "source": [
    "def print_string(x):\n",
    "    print(x)\n",
    "print_string(\"재밌는 파이썬\")"
   ]
  },
  {
   "cell_type": "code",
   "execution_count": 3,
   "metadata": {},
   "outputs": [
    {
     "data": {
      "text/plain": [
       "['재밌는', '파이썬']"
      ]
     },
     "execution_count": 3,
     "metadata": {},
     "output_type": "execute_result"
    }
   ],
   "source": [
    "# 문자열 관련 설계도 있다-> 문자열 해당 설계도 기반 객체가 만들어졌습니다.\n",
    "string = \"재밌는 파이썬\" \n",
    "#문자열 객체가 가지고 있는 함수의 기능\n",
    "string.split()"
   ]
  },
  {
   "cell_type": "markdown",
   "metadata": {},
   "source": [
    "* class란? 자동차의 설계도\n",
    "    - 속성, 동작\n",
    "    - 속성(attribute) : 변수와 유사\n",
    "    - 동작(method)    : 함수와 유사\n",
    "    \n",
    "### 정리 : class(설계도), object(객체), attribute(변수), method(함수)\n",
    "\n",
    "##### Object ? \n",
    "- 실제 각 자동차\n",
    "    * 선언된 클래스를 기반으로 만들어진 실체(**객체(Object)** 또는 **인스턴스(instance)** 라고함)\n",
    "    * 하나의 클래스 설계또 기반으로 수많은 객체를 생성할 수 있습니다.\n",
    "    \n",
    "** 정리 **\n",
    "#### 객체지향 프로그램 작성법\n",
    "1. 클래스설계(attribute와 method구성)\n",
    "2. 설계한 클래스를 기반으로 클래스를 코드로 구성\n",
    "3. 클래스를 기반으로 필요한 객체 생성\n",
    "4. 해당 객체의 attribute와 method를 조작하여 포로그램을 수행"
   ]
  },
  {
   "cell_type": "markdown",
   "metadata": {},
   "source": [
    "# Class 만드는 법\n",
    "```python\n",
    "class 클래스이름:\n",
    "    attribute 선언\n",
    "    method 선언\n",
    "```\n",
    "\n",
    "###### Attribute 선언 방법\n",
    "* 파이썬에서 attribute를 선언할때 attribute의 값과 함께 선언해 주는것이 일반적\n",
    "    * 예) height = 0\n",
    "* 생성자 메서드 **init**의 인자를 활용해서 선언하는 방식이 일반적 방식\n",
    "    * 만약 init의 인자중 하나가 width인 경우\n",
    "    * init 메서드 안에서 self.attribute = width-> attribute로 선언\n",
    "\n",
    "###### method 선언방법\n",
    "    * class 안에 def 메서드(self, 인자1 인자2)와 같은 방식으로 선언"
   ]
  },
  {
   "cell_type": "code",
   "execution_count": 13,
   "metadata": {},
   "outputs": [],
   "source": [
    "class rectangle:\n",
    "    height = 0\n",
    "    width = 0\n",
    "    color = 'white'\n",
    "    \n",
    "    def get_color(self):\n",
    "        return self.color\n",
    "    \n",
    "    def get_area(self):\n",
    "        return self.height * self.width"
   ]
  },
  {
   "cell_type": "code",
   "execution_count": 8,
   "metadata": {},
   "outputs": [
    {
     "data": {
      "text/plain": [
       "30"
      ]
     },
     "execution_count": 8,
     "metadata": {},
     "output_type": "execute_result"
    }
   ],
   "source": [
    "Rect = rectangle()\n",
    "Rect.height = 10\n",
    "Rect.width = 3\n",
    "Rect.color = 'Black'\n",
    "Rect.get_area()"
   ]
  },
  {
   "cell_type": "code",
   "execution_count": 10,
   "metadata": {},
   "outputs": [
    {
     "name": "stdout",
     "output_type": "stream",
     "text": [
      "Black\n"
     ]
    }
   ],
   "source": [
    "Rect.get_color()"
   ]
  },
  {
   "cell_type": "code",
   "execution_count": 11,
   "metadata": {},
   "outputs": [],
   "source": [
    "# Rectangle 사용해서 객체 3개를 만들고\n",
    "# 각기 다른 높이, 다른 넓이, 다른 색을 출력해주세요."
   ]
  },
  {
   "cell_type": "code",
   "execution_count": 14,
   "metadata": {},
   "outputs": [
    {
     "name": "stdout",
     "output_type": "stream",
     "text": [
      "40 orange\n"
     ]
    }
   ],
   "source": [
    "Rect2 = rectangle()\n",
    "Rect2.height = 8\n",
    "Rect2.width = 5\n",
    "Rect2.color = 'orange'\n",
    "print(Rect2.get_area(), Rect2.get_color())"
   ]
  },
  {
   "cell_type": "code",
   "execution_count": 17,
   "metadata": {},
   "outputs": [
    {
     "name": "stdout",
     "output_type": "stream",
     "text": [
      "120 blue\n",
      "36 green\n"
     ]
    }
   ],
   "source": [
    "Rect3 = rectangle()\n",
    "Rect3.height = 12\n",
    "Rect3.width = 10\n",
    "Rect3.color = 'blue'\n",
    "print(Rect3.get_area(), Rect3.get_color())\n",
    "\n",
    "Rect4 = rectangle()\n",
    "Rect4.height = 9\n",
    "Rect4.width = 4\n",
    "Rect4.color = 'green'\n",
    "print(Rect4.get_area(), Rect4.get_color())"
   ]
  },
  {
   "cell_type": "code",
   "execution_count": 22,
   "metadata": {},
   "outputs": [],
   "source": [
    "# 클래스 속성을 더 추가하는것은 불가능\n",
    "# 속성을 더 추가해주려면 클래스를 만들어줄때 속성을 추가를 해주어야 합니다.\n",
    "dir(rectangle)\n",
    "class SingleTone:\n",
    "    instance = \"this\"\n",
    "    null = True\n",
    "    "
   ]
  },
  {
   "cell_type": "code",
   "execution_count": 23,
   "metadata": {},
   "outputs": [],
   "source": [
    "single = SingleTone()"
   ]
  },
  {
   "cell_type": "code",
   "execution_count": 24,
   "metadata": {},
   "outputs": [
    {
     "data": {
      "text/plain": [
       "'this'"
      ]
     },
     "execution_count": 24,
     "metadata": {},
     "output_type": "execute_result"
    }
   ],
   "source": [
    "single.instance"
   ]
  },
  {
   "cell_type": "code",
   "execution_count": 25,
   "metadata": {},
   "outputs": [
    {
     "data": {
      "text/plain": [
       "True"
      ]
     },
     "execution_count": 25,
     "metadata": {},
     "output_type": "execute_result"
    }
   ],
   "source": [
    "single.null"
   ]
  },
  {
   "cell_type": "markdown",
   "metadata": {},
   "source": [
    "# Rectangle 클래스를 새로 만들고 이 클래스를 기반으로 직사각형 객체 1개와 정사각형 객체 1개를 만들고 각 사가형의 너비를 출력해주세요\n",
    "\n",
    "* 직사각형 속성 : width = 10, height = 5, color = 'red'\n",
    "* 정사각형 속성 : width = 7, height = 7, color = 'blue'"
   ]
  },
  {
   "cell_type": "code",
   "execution_count": 26,
   "metadata": {},
   "outputs": [],
   "source": [
    "class Rectangle:\n",
    "    height = 0\n",
    "    width = 0\n",
    "    clolr = \"\"\n",
    "    \n",
    "    def get_area(self):\n",
    "        return self.height * self.width\n",
    "    \n",
    "    def set_area(self, data1, data2):\n",
    "        self.width = data1\n",
    "        self.height = data2\n",
    "        "
   ]
  },
  {
   "cell_type": "code",
   "execution_count": 27,
   "metadata": {},
   "outputs": [
    {
     "name": "stdout",
     "output_type": "stream",
     "text": [
      "50\n",
      "49\n"
     ]
    }
   ],
   "source": [
    "rect1 = Rectangle()\n",
    "rect2 = Rectangle()\n",
    "\n",
    "rect1.set_area(5, 10)\n",
    "rect2.set_area(7, 7)\n",
    "rect1.color = \"red\"\n",
    "rect2.color = \"blue\"\n",
    "\n",
    "print(rect1.get_area())\n",
    "print(rect2.get_area())"
   ]
  },
  {
   "cell_type": "code",
   "execution_count": null,
   "metadata": {},
   "outputs": [],
   "source": []
  }
 ],
 "metadata": {
  "kernelspec": {
   "display_name": "Python 3",
   "language": "python",
   "name": "python3"
  },
  "language_info": {
   "codemirror_mode": {
    "name": "ipython",
    "version": 3
   },
   "file_extension": ".py",
   "mimetype": "text/x-python",
   "name": "python",
   "nbconvert_exporter": "python",
   "pygments_lexer": "ipython3",
   "version": "3.7.4"
  }
 },
 "nbformat": 4,
 "nbformat_minor": 2
}
