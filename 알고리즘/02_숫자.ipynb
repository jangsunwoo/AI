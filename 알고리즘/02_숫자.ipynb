{
 "cells": [
  {
   "cell_type": "markdown",
   "metadata": {},
   "source": [
    "# 정수\n",
    "- int로 나타내고 불변형입니다.\n",
    "- 불변형 객체는 변수와 객체 참조간에 차이가 없습니다.\n",
    "- 변수의 크기 4바이트\n",
    "- (정수).bit_length() : 정수의 크기 확인"
   ]
  },
  {
   "cell_type": "code",
   "execution_count": 11,
   "metadata": {},
   "outputs": [
    {
     "data": {
      "text/plain": [
       "28"
      ]
     },
     "execution_count": 11,
     "metadata": {},
     "output_type": "execute_result"
    }
   ],
   "source": [
    "a = 100000\n",
    "(a).bit_length()\n",
    "# 비트 사이즈\n",
    "import sys\n",
    "sys.getsizeof(a)"
   ]
  },
  {
   "cell_type": "code",
   "execution_count": 20,
   "metadata": {},
   "outputs": [
    {
     "name": "stdout",
     "output_type": "stream",
     "text": [
      "11\n",
      "3\n"
     ]
    }
   ],
   "source": [
    "s = '11'\n",
    "d = int(s)\n",
    "print(d)\n",
    "b = int(s,2)\n",
    "print(b)\n",
    "# int(문자열, 밑)\n",
    "# 다른 진법의 문자열을 다른 진수로 변환하기 위한 메서드\n",
    "# 2, 8, 10, 16 진수를 사용하고\n",
    "# int메서드 밑은 2 ~ 36 사이의 선택적 인수여야 한다.\n",
    "# 문자열 부분이 밑 범위가 숫자를 벗어나는 값을 입력한다면 \"Value Error\" 나오게 됩니다."
   ]
  },
  {
   "cell_type": "markdown",
   "metadata": {},
   "source": [
    "# 부동 소수점\n",
    "- 파이썬에서 부동소수점은 float으로 나타내며 불변형입니다.\n",
    "- 단정도 방식\n",
    "\n",
    "<img src=\"single_precision.png\"/>\n",
    "\n",
    "* 32비트 부동소수점을 나타낼때 1비트는 부호(sign), 8비트는 지수, 23비트는 유효자리 숫자(가수)\n",
    "* 1비트는 양수(0), 음수(1)로 나누어져 있다.\n",
    "* -118.625를 단정도로 변환\n",
    "<br>\n",
    " 118 % 2 = 59 : 0 <br>\n",
    " 59 % 2 = 29 : 1 <br>\n",
    " 29 % 2 = 14 : 1 <br>\n",
    " 14 % 2 = 7 : 0 <br>\n",
    " 7 % 2 = 3 : 1 <br>\n",
    " 3 % 2 = 1 : 1 <br>\n",
    " 0.625 * 2 = 1.250 : 1 <br>\n",
    " 0.250 * 2 = 0.500 : 1 <br>\n",
    " 0.500 * 2 = 1.000 : 1 <br>\n",
    "1110110.101 <br>\n",
    "\n",
    "* 정규화 : 소수점을 왼쪽으로 이동시켜 왼쪽부분에 1만 남게하면됩니다.\n",
    "    - 1110110.101(2) = 1.110110101(2) x 2^6 -> 110110101000000000000\n",
    "    - 지수가 6이므로 바이어스를 더합니다.(지수 6에 127를 더합니다.)\n",
    "    - 6(10) + 127(10) = 133(10) = 1000101(2)\n",
    "    - 11000010111011010100000000000000\n",
    "    \n",
    "## 부동 소수점 비교하기\n",
    "- 부동 소수점은 이진수 분수로 표현이 되기때문에 함부로 비교하거나 빼면 안됩니다.\n",
    "- 이진수를 10진법으로 정확하게 표현을 할 수 있지만 표현하기 어려운값들이 있다.\n",
    "\n",
    "- 부동 소수점의 숫자는 메모리에서 비트 패턴을 비교할 수 있다.\n",
    "* 1. 부호 비교를 별도로 처리합니다.\n",
    "* 2. 두 숫자의 부호가 음수라면 부호를 뒤집습니다.\n",
    "* 3. 숫자를 반전해서 비교\n",
    "* 4. 지수 패턴이 같다면 가수를 비교"
   ]
  },
  {
   "cell_type": "code",
   "execution_count": 21,
   "metadata": {},
   "outputs": [
    {
     "data": {
      "text/plain": [
       "False"
      ]
     },
     "execution_count": 21,
     "metadata": {},
     "output_type": "execute_result"
    }
   ],
   "source": [
    "0.2 * 3 == 0.6"
   ]
  },
  {
   "cell_type": "code",
   "execution_count": 22,
   "metadata": {},
   "outputs": [
    {
     "data": {
      "text/plain": [
       "True"
      ]
     },
     "execution_count": 22,
     "metadata": {},
     "output_type": "execute_result"
    }
   ],
   "source": [
    "1.2 - 0.2 == 1.0"
   ]
  },
  {
   "cell_type": "code",
   "execution_count": 24,
   "metadata": {},
   "outputs": [
    {
     "data": {
      "text/plain": [
       "False"
      ]
     },
     "execution_count": 24,
     "metadata": {},
     "output_type": "execute_result"
    }
   ],
   "source": [
    "1.2 - 0.1 == 1.1"
   ]
  },
  {
   "cell_type": "markdown",
   "metadata": {},
   "source": [
    "# 정수와 부동소수점 메서드\n",
    "- 나누기 연산자 '/'는 항상 부동소수점을 반환\n",
    "- 몫 연산자 '//' 정수를 반환\n",
    "- 나머지 연산자 '%' 나머지를 정수로 반환\n",
    "* divmod(x,y) : x를 y로 나눌때, 몫과 나머지를 반환\n",
    "* round(x, n) : n이 음수일 경우, 정수 n번째에서 반올림을하고, 양수일때는 소수점 이하 n번째 자리에로 반올림\n",
    "* as_integer_ratio() : 부동소수점을 분수로 표현을 합니다. \n",
    "    - ex) 1.3.as_integer_ratio()\n",
    "    "
   ]
  },
  {
   "cell_type": "code",
   "execution_count": 25,
   "metadata": {},
   "outputs": [
    {
     "data": {
      "text/plain": [
       "(7, 0)"
      ]
     },
     "execution_count": 25,
     "metadata": {},
     "output_type": "execute_result"
    }
   ],
   "source": [
    "divmod(49, 7)"
   ]
  },
  {
   "cell_type": "code",
   "execution_count": 28,
   "metadata": {},
   "outputs": [
    {
     "name": "stdout",
     "output_type": "stream",
     "text": [
      "110.0\n",
      "113.46\n"
     ]
    }
   ],
   "source": [
    "print(round(113.456, -1))\n",
    "print(round(113.456, 2))"
   ]
  },
  {
   "cell_type": "code",
   "execution_count": 32,
   "metadata": {},
   "outputs": [
    {
     "data": {
      "text/plain": [
       "(5404319552844595, 4503599627370496)"
      ]
     },
     "execution_count": 32,
     "metadata": {},
     "output_type": "execute_result"
    }
   ],
   "source": [
    "1.2.as_integer_ratio()"
   ]
  },
  {
   "cell_type": "markdown",
   "metadata": {},
   "source": [
    "# 복소수\n",
    "- Z = a + bj : 부동소수점 한쌍이 갖는 불변형, (실수부, 허수부, 켤레복소수)\n",
    "* 실수부 : Z.real : 실수로 되어 있는 항\n",
    "* 허수부 : Z.imag : 허수로 되어 있는 항\n",
    "* 켤레복소수 : Z.conjugate() : 실수 부분은 같고 허수부분의 부호만 다른 두개의 복소수에서 한 복소수를 다른 복소수에 상대하여 이르는 말\n",
    "- 필요 모듈 : cmath"
   ]
  },
  {
   "cell_type": "code",
   "execution_count": 35,
   "metadata": {},
   "outputs": [
    {
     "name": "stdout",
     "output_type": "stream",
     "text": [
      "3.0\n",
      "4.0\n",
      "(3-4j)\n"
     ]
    }
   ],
   "source": [
    "import cmath\n",
    "z = 3 + 4j\n",
    "print(z.real)\n",
    "print(z.imag)\n",
    "print(z.conjugate())"
   ]
  },
  {
   "cell_type": "markdown",
   "metadata": {},
   "source": [
    "# 유리수\n",
    "- 두 정수의 비율로 나타낼수 있는 수.\n",
    "- 단, 분모가 0이 아니어야 합니다.\n",
    "- 분모 1일 수도 있기 때문에 모든 정수는 유리수\n",
    "- fraction모듈 : fractions.Fraction(분자, 분모)\n"
   ]
  },
  {
   "cell_type": "code",
   "execution_count": 37,
   "metadata": {},
   "outputs": [
    {
     "data": {
      "text/plain": [
       "Fraction(3, 1)"
      ]
     },
     "execution_count": 37,
     "metadata": {},
     "output_type": "execute_result"
    }
   ],
   "source": [
    "from fractions import Fraction as Frac\n",
    "Frac(3, 1)"
   ]
  },
  {
   "cell_type": "code",
   "execution_count": 44,
   "metadata": {},
   "outputs": [
    {
     "name": "stdout",
     "output_type": "stream",
     "text": [
      "테스트 통과!!!!\n"
     ]
    }
   ],
   "source": [
    "def rounding_floats(number, places):\n",
    "    return round(number, places)\n",
    "\n",
    "def float_to_fractions(number):\n",
    "    return Frac(*number.as_integer_ratio())\n",
    "\n",
    "def get_denominator(number1, number2):\n",
    "    \"\"\"분모 반환\"\"\"\n",
    "    a = Frac(number1,number2)\n",
    "    return a.denominator\n",
    "\n",
    "def get_numerator(number1, number2):\n",
    "    \"\"\"분자 반환\"\"\"\n",
    "    a = Frac(number1, number2)\n",
    "    return a.numerator\n",
    "    \n",
    "def test_floats():\n",
    "    number1 = 1.25\n",
    "    number2 = 1\n",
    "    number3 = -1\n",
    "    number4 = 5/4\n",
    "    number6 = 6\n",
    "    # assert 뒤의 조건이 True가 아니라면 AssertError를 발생시킵니다.\n",
    "    # assert 함수는 성능을 높이기 위해서 반드시 정수만을 입력받아서 처리하도록 만들수 있씁니다.\n",
    "    # 일반적인 함수는 함수에 정수만 들어오는지 확인을 할 필요가 있습니다.\n",
    "    # '가정설정문' = assert 함수\n",
    "    assert(rounding_floats(number1, number2) == 1.2)\n",
    "    assert(rounding_floats(number1*10, number3) == 10)\n",
    "    assert(float_to_fractions(number1) == number4)\n",
    "    assert(get_denominator(number2, number6) == number6)\n",
    "    assert(get_numerator(number2, number6) == number2)\n",
    "    print(\"테스트 통과!!!!\")\n",
    "    \n",
    "if __name__ == \"__main__\":\n",
    "    test_floats()"
   ]
  },
  {
   "cell_type": "markdown",
   "metadata": {},
   "source": [
    "# Decimal => 소수(정수타입에서 부동소수점이 필요한 경우), \n",
    "# 10진수\n",
    "- 소수는 prime\n",
    "- from decimal import Decimal\n",
    "- 실제 사용 :\n",
    "    - Decimal(인수) : 정수 또는 문자열\n",
    "    - 파이썬 3.1버전 사용이 가능.\n",
    "    - decimal.Decimal.from_float() -> 부동 소수점을 decimal 타입으로 변환\n",
    "    - 부동 소수점의 반올림, 비교, 뺄셈 나타나는 문제점을 효율적으로 처리할 수 있음"
   ]
  },
  {
   "cell_type": "code",
   "execution_count": 1,
   "metadata": {},
   "outputs": [
    {
     "data": {
      "text/plain": [
       "False"
      ]
     },
     "execution_count": 1,
     "metadata": {},
     "output_type": "execute_result"
    }
   ],
   "source": [
    "sum(0.1 for i in range(10)) == 1.0"
   ]
  },
  {
   "cell_type": "code",
   "execution_count": 4,
   "metadata": {},
   "outputs": [
    {
     "data": {
      "text/plain": [
       "False"
      ]
     },
     "execution_count": 4,
     "metadata": {},
     "output_type": "execute_result"
    }
   ],
   "source": [
    "from decimal import Decimal\n",
    "sum(Decimal(0.1) for i in range(10)) == Decimal(1.0)"
   ]
  },
  {
   "cell_type": "markdown",
   "metadata": {},
   "source": [
    "# 2진수 : bin(i)\n",
    "# 8진수 : oct(i)\n",
    "# 16진수 : hex(i)\n",
    "- i의 인덱스값을 각 진법의 문자열로 반환을 해줍니다."
   ]
  },
  {
   "cell_type": "code",
   "execution_count": 7,
   "metadata": {},
   "outputs": [
    {
     "data": {
      "text/plain": [
       "'0b1010'"
      ]
     },
     "execution_count": 7,
     "metadata": {},
     "output_type": "execute_result"
    }
   ],
   "source": [
    "bin(10)"
   ]
  },
  {
   "cell_type": "code",
   "execution_count": 8,
   "metadata": {},
   "outputs": [
    {
     "data": {
      "text/plain": [
       "'0o12'"
      ]
     },
     "execution_count": 8,
     "metadata": {},
     "output_type": "execute_result"
    }
   ],
   "source": [
    "oct(10)"
   ]
  },
  {
   "cell_type": "code",
   "execution_count": 9,
   "metadata": {},
   "outputs": [
    {
     "data": {
      "text/plain": [
       "'0xa'"
      ]
     },
     "execution_count": 9,
     "metadata": {},
     "output_type": "execute_result"
    }
   ],
   "source": [
    "hex(10)"
   ]
  },
  {
   "cell_type": "code",
   "execution_count": 16,
   "metadata": {},
   "outputs": [
    {
     "name": "stdout",
     "output_type": "stream",
     "text": [
      "통과!\n"
     ]
    }
   ],
   "source": [
    "# 2진수 -> 10 진수\n",
    "# 1001, 2,\n",
    "# 1, 0\n",
    "# 반복문을 돌려서 1001 % 10 == 일의 자리를 하나씩 가져와서 계산\n",
    "# assert(convert_to_decimal(number, base) == 9)\n",
    "# print(\"통과\")\n",
    "def convert_to_decimal(number, base):\n",
    "    multiplier, result = 1, 0\n",
    "    while number > 0:\n",
    "        result += number % 10 * multiplier\n",
    "        multiplier *= base\n",
    "        # 다음 반복문을 위해서 number = number // 20\n",
    "        number = number // 10\n",
    "    return result\n",
    "\n",
    "def main():\n",
    "    number, base = 1001, 2\n",
    "    assert(convert_to_decimal(number, base) == 9)\n",
    "    print(\"통과!\")\n",
    "\n",
    "if __name__ == \"__main__\":\n",
    "    main()"
   ]
  },
  {
   "cell_type": "code",
   "execution_count": 19,
   "metadata": {},
   "outputs": [
    {
     "name": "stdout",
     "output_type": "stream",
     "text": [
      "통과!\n"
     ]
    }
   ],
   "source": [
    "def convert_to_decimal(number, base):\n",
    "    multiplier, result = 1, 0\n",
    "    while number > 0:\n",
    "        result += number % base * multiplier\n",
    "        multiplier *= 10\n",
    "        number = number // base\n",
    "    return result\n",
    "\n",
    "def main():\n",
    "    number, base = 9, 10\n",
    "    assert(convert_to_decimal(number, base) == 1001)\n",
    "    print(\"통과!\")\n",
    "\n",
    "if __name__ == \"__main__\":\n",
    "    main()"
   ]
  },
  {
   "cell_type": "code",
   "execution_count": null,
   "metadata": {},
   "outputs": [],
   "source": [
    "# 최대공약수 함수 만들기\n",
    "# a와 b를 비교했을때의 최대 공약수\n",
    "# 21, 12 = 3\n",
    "def finding_gcd(a, b):\n",
    "    while(b != 0):\n",
    "        result = b\n",
    "        a, b = b, a % b\n",
    "    return result\n",
    "\n",
    "def main():\n",
    "    number1 = 21\n",
    "    number2 = 12\n",
    "    assert(finding_gcd(number1, number2) == 3)\n",
    "    print(\"통과!\")\n",
    "\n",
    "if __name__ == \"__main__\":\n",
    "    main()"
   ]
  },
  {
   "cell_type": "markdown",
   "metadata": {},
   "source": [
    "# 제네레이터 : Generator\n",
    "- 파이썬의 시퀸스를 생성하는 객체입니다.\n",
    "- 제네레이터는 이용하면 전체 시퀸스를 한번에 메모리에 생성하고 정렬할 필요없이 사용할 수 있습니다.\n",
    "- 잠재적인 아주 큰 시퀸스를 순회할 수 있으면 순회시 마지막으로 호출된 요소를 기억하고 마지막으로 호출된 요소를 리턴합니다.\n",
    "- 리턴시 yield"
   ]
  },
  {
   "cell_type": "code",
   "execution_count": null,
   "metadata": {},
   "outputs": [],
   "source": [
    "# 피보나치 수열 구현하기!\n",
    "# 1 1 2 3 5 8 13"
   ]
  }
 ],
 "metadata": {
  "kernelspec": {
   "display_name": "Python 3",
   "language": "python",
   "name": "python3"
  },
  "language_info": {
   "codemirror_mode": {
    "name": "ipython",
    "version": 3
   },
   "file_extension": ".py",
   "mimetype": "text/x-python",
   "name": "python",
   "nbconvert_exporter": "python",
   "pygments_lexer": "ipython3",
   "version": "3.7.4"
  }
 },
 "nbformat": 4,
 "nbformat_minor": 2
}
