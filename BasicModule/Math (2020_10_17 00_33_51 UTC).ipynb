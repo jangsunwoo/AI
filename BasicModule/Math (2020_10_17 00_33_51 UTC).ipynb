{
 "cells": [
  {
   "cell_type": "markdown",
   "metadata": {},
   "source": [
    "# Math\n",
    "- 수학도구, 분수, 난수, 순열, 조합, 통계 ...\n",
    "```pyhon\n",
    "import math *\n",
    "계승 : math.factorial(n) -> n의 계승\n",
    "최대공약수 : math.gcd(a, b) -> a, b의 최대공약수\n",
    "소수점 내림 : math.floor(n) -> n의 소수점 아래를 버리는\n",
    "소수점 올림 : math.ceil(n) -> n의 소수점 아래를 올리는\n",
    "승 : math.pow(a, b) -> a의 b승\n",
    "제곱근 : math.sqrt(n) -> n의 제곱근\n",
    "로그 : math.log(x, base) -> base를 밑으로 하는 x의 로그\n",
    "사인 : math.sin(n) -> n 라디안의 사인\n",
    "코사인 : math.cos(n) -> n 라디안의 코사인\n",
    "탄젠트 : math.tan(n) -> n 라디안의 탄젠트\n",
    "각도변환 : math.degrees(n) -> n의 라디안을 도 단위로 변환\n",
    "라디안변환 : math.radians(n) -> n 도를 라디안 단위로 변환\n",
    "floor -> 특정 소수점 출력\n",
    "floor 쓰면 안돼여\n",
    "round(변수, 몇번째자리)\n",
    "```\n",
    "### 상수\n",
    "- 원주율 : math.pi\n",
    "- 자연상수 : math.e\n",
    "- (양의) 무한대 : math.inf\n",
    "### 분수\n",
    "- from fractions import Fraction\n",
    "    - 분수 객체를 표현할 수 있다.\n",
    "    * 주의 *\n",
    "        - 분모와 분자를 초기값으로 지정\n",
    "        - 직접 초기값을 지정\n",
    "        - 매개변수를 통해 초기값 지정"
   ]
  },
  {
   "cell_type": "code",
   "execution_count": 2,
   "metadata": {},
   "outputs": [
    {
     "data": {
      "text/plain": [
       "3628800"
      ]
     },
     "execution_count": 2,
     "metadata": {},
     "output_type": "execute_result"
    }
   ],
   "source": [
    "import math\n",
    "math.factorial(10)\n",
    "#1 x 2 x 3 x 4 x 5 x 6 x 7 x 8 x 9 x 10"
   ]
  },
  {
   "cell_type": "code",
   "execution_count": 3,
   "metadata": {},
   "outputs": [
    {
     "data": {
      "text/plain": [
       "4"
      ]
     },
     "execution_count": 3,
     "metadata": {},
     "output_type": "execute_result"
    }
   ],
   "source": [
    "math.gcd(4, 12)"
   ]
  },
  {
   "cell_type": "code",
   "execution_count": 6,
   "metadata": {},
   "outputs": [
    {
     "name": "stdout",
     "output_type": "stream",
     "text": [
      "2.718281828459045\n",
      "2\n",
      "3\n"
     ]
    }
   ],
   "source": [
    "e = math.e\n",
    "print(e)\n",
    "print(math.floor(e))\n",
    "print(math.ceil(e))"
   ]
  },
  {
   "cell_type": "code",
   "execution_count": 7,
   "metadata": {},
   "outputs": [
    {
     "data": {
      "text/plain": [
       "81.0"
      ]
     },
     "execution_count": 7,
     "metadata": {},
     "output_type": "execute_result"
    }
   ],
   "source": [
    "math.pow(3, 4)"
   ]
  },
  {
   "cell_type": "code",
   "execution_count": 8,
   "metadata": {},
   "outputs": [
    {
     "data": {
      "text/plain": [
       "4.0"
      ]
     },
     "execution_count": 8,
     "metadata": {},
     "output_type": "execute_result"
    }
   ],
   "source": [
    "math.log(81, 3)"
   ]
  },
  {
   "cell_type": "code",
   "execution_count": 10,
   "metadata": {},
   "outputs": [
    {
     "data": {
      "text/plain": [
       "4.0"
      ]
     },
     "execution_count": 10,
     "metadata": {},
     "output_type": "execute_result"
    }
   ],
   "source": [
    "math.sqrt(16)"
   ]
  },
  {
   "cell_type": "code",
   "execution_count": 11,
   "metadata": {},
   "outputs": [
    {
     "data": {
      "text/plain": [
       "3.141592653589793"
      ]
     },
     "execution_count": 11,
     "metadata": {},
     "output_type": "execute_result"
    }
   ],
   "source": [
    "math.pi"
   ]
  },
  {
   "cell_type": "code",
   "execution_count": 12,
   "metadata": {},
   "outputs": [
    {
     "data": {
      "text/plain": [
       "Fraction(1, 4)"
      ]
     },
     "execution_count": 12,
     "metadata": {},
     "output_type": "execute_result"
    }
   ],
   "source": [
    "from fractions import Fraction\n",
    "Fraction(1, 4)"
   ]
  },
  {
   "cell_type": "code",
   "execution_count": 13,
   "metadata": {},
   "outputs": [
    {
     "data": {
      "text/plain": [
       "Fraction(3, 4)"
      ]
     },
     "execution_count": 13,
     "metadata": {},
     "output_type": "execute_result"
    }
   ],
   "source": [
    "Fraction(numerator=3, denominator=4)"
   ]
  },
  {
   "cell_type": "code",
   "execution_count": 14,
   "metadata": {},
   "outputs": [
    {
     "data": {
      "text/plain": [
       "Fraction(1, 1)"
      ]
     },
     "execution_count": 14,
     "metadata": {},
     "output_type": "execute_result"
    }
   ],
   "source": [
    "Fraction(1, 4) + Fraction(numerator=3, denominator=4)"
   ]
  },
  {
   "cell_type": "code",
   "execution_count": 17,
   "metadata": {},
   "outputs": [
    {
     "name": "stdout",
     "output_type": "stream",
     "text": [
      "3\n",
      "4\n"
     ]
    }
   ],
   "source": [
    "#사칙연산 사용해서 여러가지로 한번 해보세염\n",
    "third_four = Fraction(3,4)\n",
    "print(third_four.numerator)\n",
    "print(third_four.denominator)"
   ]
  },
  {
   "cell_type": "code",
   "execution_count": 19,
   "metadata": {},
   "outputs": [],
   "source": [
    "third_four = Fraction(2,4)"
   ]
  },
  {
   "cell_type": "markdown",
   "metadata": {},
   "source": [
    "# 난수\n",
    "- import random\n",
    "    - randint(a, b) : a이상 b 이하의 임의의 정수\n",
    "    - random() : 0 ~ 1 미만의 임의의 실수\n",
    "    - choice(seq) : 시퀸스 내부의 요소 하나를 무작위로 선택\n",
    "    - sample(seq, n) : 시퀸스 내부의 요소 n개를 무작위로 선택\n",
    "    - shuffle(seq) : 시퀸스를 무작위로 섞습니다.\n",
    "    - seed() : 난수의 씨앗 값을 매개변수로 설정"
   ]
  },
  {
   "cell_type": "code",
   "execution_count": 28,
   "metadata": {},
   "outputs": [
    {
     "name": "stdout",
     "output_type": "stream",
     "text": [
      "1\n",
      "0.6392065946732691\n"
     ]
    }
   ],
   "source": [
    "import random\n",
    "print(random.randint(1, 10))\n",
    "print(random.random())"
   ]
  },
  {
   "cell_type": "code",
   "execution_count": 40,
   "metadata": {},
   "outputs": [
    {
     "name": "stdout",
     "output_type": "stream",
     "text": [
      "고양이\n",
      "['사자', '악어']\n",
      "['악어', '고양이', '사자', '도룡뇽', '강아지']\n"
     ]
    }
   ],
   "source": [
    "animal = [\"강아지\", \"고양이\", \"악어\", \"사자\", \"도룡뇽\"]\n",
    "# animal[random.randint(0, len(animal) - 1)]\n",
    "print(random.choice(animal))\n",
    "print(random.sample(animal, 2))\n",
    "random.shuffle(animal)\n",
    "print(animal)"
   ]
  },
  {
   "cell_type": "code",
   "execution_count": 48,
   "metadata": {},
   "outputs": [
    {
     "name": "stdout",
     "output_type": "stream",
     "text": [
      "9\n"
     ]
    }
   ],
   "source": [
    "random.seed(10)\n",
    "rand = random.randint(0, 10)\n",
    "print(rand)"
   ]
  },
  {
   "cell_type": "code",
   "execution_count": 49,
   "metadata": {},
   "outputs": [
    {
     "name": "stdout",
     "output_type": "stream",
     "text": [
      "9\n"
     ]
    }
   ],
   "source": [
    "print(rand)"
   ]
  },
  {
   "cell_type": "code",
   "execution_count": 50,
   "metadata": {},
   "outputs": [
    {
     "name": "stdout",
     "output_type": "stream",
     "text": [
      "9\n"
     ]
    }
   ],
   "source": [
    "print(rand)"
   ]
  },
  {
   "cell_type": "code",
   "execution_count": 55,
   "metadata": {},
   "outputs": [
    {
     "name": "stdout",
     "output_type": "stream",
     "text": [
      "[0 1 2 3 4 5 6 7 8 9]\n",
      "0.5488135039273248\n"
     ]
    }
   ],
   "source": []
  },
  {
   "cell_type": "code",
   "execution_count": null,
   "metadata": {},
   "outputs": [],
   "source": []
  }
 ],
 "metadata": {
  "kernelspec": {
   "display_name": "Python 3",
   "language": "python",
   "name": "python3"
  },
  "language_info": {
   "codemirror_mode": {
    "name": "ipython",
    "version": 3
   },
   "file_extension": ".py",
   "mimetype": "text/x-python",
   "name": "python",
   "nbconvert_exporter": "python",
   "pygments_lexer": "ipython3",
   "version": "3.7.4"
  }
 },
 "nbformat": 4,
 "nbformat_minor": 2
}
